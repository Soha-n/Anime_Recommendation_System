{
 "cells": [
  {
   "cell_type": "markdown",
   "id": "a7720e4e-54ca-4ecf-97c0-68a64765a7ed",
   "metadata": {},
   "source": [
    "# Anime Recommendation System"
   ]
  },
  {
   "cell_type": "code",
   "execution_count": 1,
   "id": "80539c6d-1309-40be-a5bb-d32f6a3f1a2e",
   "metadata": {},
   "outputs": [],
   "source": [
    "import numpy as np\n",
    "import pandas as pd\n",
    "\n",
    "from sklearn.feature_extraction.text import CountVectorizer\n",
    "from sklearn.metrics.pairwise import cosine_similarity\n",
    "\n",
    "\n",
    "import pickle\n",
    "import warnings\n",
    "warnings.filterwarnings(action='ignore')"
   ]
  },
  {
   "cell_type": "code",
   "execution_count": 2,
   "id": "a24f8f1c-3b01-4311-9d2a-e2a9a90c6a75",
   "metadata": {},
   "outputs": [],
   "source": [
    "df= pd.read_csv('Anime_dataset_2023_1.csv')"
   ]
  },
  {
   "cell_type": "code",
   "execution_count": 3,
   "id": "d6bf7de9-47a1-4987-8d00-4f5cb7827c4f",
   "metadata": {},
   "outputs": [
    {
     "data": {
      "text/html": [
       "<div>\n",
       "<style scoped>\n",
       "    .dataframe tbody tr th:only-of-type {\n",
       "        vertical-align: middle;\n",
       "    }\n",
       "\n",
       "    .dataframe tbody tr th {\n",
       "        vertical-align: top;\n",
       "    }\n",
       "\n",
       "    .dataframe thead th {\n",
       "        text-align: right;\n",
       "    }\n",
       "</style>\n",
       "<table border=\"1\" class=\"dataframe\">\n",
       "  <thead>\n",
       "    <tr style=\"text-align: right;\">\n",
       "      <th></th>\n",
       "      <th>Unnamed: 0</th>\n",
       "      <th>anime_id</th>\n",
       "      <th>Name</th>\n",
       "      <th>Score</th>\n",
       "      <th>Genres</th>\n",
       "      <th>Synopsis</th>\n",
       "      <th>Type</th>\n",
       "      <th>Episodes</th>\n",
       "      <th>Aired</th>\n",
       "      <th>Status</th>\n",
       "      <th>Studios</th>\n",
       "      <th>Source</th>\n",
       "      <th>Duration</th>\n",
       "      <th>Rating</th>\n",
       "      <th>Rank</th>\n",
       "      <th>Popularity</th>\n",
       "      <th>Favorites</th>\n",
       "      <th>Members</th>\n",
       "      <th>Image URL</th>\n",
       "    </tr>\n",
       "  </thead>\n",
       "  <tbody>\n",
       "    <tr>\n",
       "      <th>0</th>\n",
       "      <td>0</td>\n",
       "      <td>1</td>\n",
       "      <td>Cowboy Bebop</td>\n",
       "      <td>8.75</td>\n",
       "      <td>Action, Award Winning, Sci-Fi</td>\n",
       "      <td>Crime is timeless. By the year 2071, humanity ...</td>\n",
       "      <td>TV</td>\n",
       "      <td>26.0</td>\n",
       "      <td>Apr 3, 1998 to Apr 24, 1999</td>\n",
       "      <td>Finished Airing</td>\n",
       "      <td>Sunrise</td>\n",
       "      <td>Original</td>\n",
       "      <td>24 min per ep</td>\n",
       "      <td>R - 17+ (violence &amp; profanity)</td>\n",
       "      <td>41.0</td>\n",
       "      <td>43</td>\n",
       "      <td>78525</td>\n",
       "      <td>1771505</td>\n",
       "      <td>https://cdn.myanimelist.net/images/anime/4/196...</td>\n",
       "    </tr>\n",
       "    <tr>\n",
       "      <th>1</th>\n",
       "      <td>1</td>\n",
       "      <td>5</td>\n",
       "      <td>Cowboy Bebop: Tengoku no Tobira</td>\n",
       "      <td>8.38</td>\n",
       "      <td>Action, Sci-Fi</td>\n",
       "      <td>Another day, another bounty—such is the life o...</td>\n",
       "      <td>Movie</td>\n",
       "      <td>1.0</td>\n",
       "      <td>Sep 1, 2001</td>\n",
       "      <td>Finished Airing</td>\n",
       "      <td>Bones</td>\n",
       "      <td>Original</td>\n",
       "      <td>1 hr 55 min</td>\n",
       "      <td>R - 17+ (violence &amp; profanity)</td>\n",
       "      <td>189.0</td>\n",
       "      <td>602</td>\n",
       "      <td>1448</td>\n",
       "      <td>360978</td>\n",
       "      <td>https://cdn.myanimelist.net/images/anime/1439/...</td>\n",
       "    </tr>\n",
       "    <tr>\n",
       "      <th>2</th>\n",
       "      <td>2</td>\n",
       "      <td>6</td>\n",
       "      <td>Trigun</td>\n",
       "      <td>8.22</td>\n",
       "      <td>Action, Adventure, Sci-Fi</td>\n",
       "      <td>Vash the Stampede is the man with a $$60,000,0...</td>\n",
       "      <td>TV</td>\n",
       "      <td>26.0</td>\n",
       "      <td>Apr 1, 1998 to Sep 30, 1998</td>\n",
       "      <td>Finished Airing</td>\n",
       "      <td>Madhouse</td>\n",
       "      <td>Manga</td>\n",
       "      <td>24 min per ep</td>\n",
       "      <td>PG-13 - Teens 13 or older</td>\n",
       "      <td>328.0</td>\n",
       "      <td>246</td>\n",
       "      <td>15035</td>\n",
       "      <td>727252</td>\n",
       "      <td>https://cdn.myanimelist.net/images/anime/7/203...</td>\n",
       "    </tr>\n",
       "    <tr>\n",
       "      <th>3</th>\n",
       "      <td>3</td>\n",
       "      <td>7</td>\n",
       "      <td>Witch Hunter Robin</td>\n",
       "      <td>7.25</td>\n",
       "      <td>Action, Drama, Mystery, Supernatural</td>\n",
       "      <td>Robin Sena is a powerful craft user drafted in...</td>\n",
       "      <td>TV</td>\n",
       "      <td>26.0</td>\n",
       "      <td>Jul 3, 2002 to Dec 25, 2002</td>\n",
       "      <td>Finished Airing</td>\n",
       "      <td>Sunrise</td>\n",
       "      <td>Original</td>\n",
       "      <td>25 min per ep</td>\n",
       "      <td>PG-13 - Teens 13 or older</td>\n",
       "      <td>2764.0</td>\n",
       "      <td>1795</td>\n",
       "      <td>613</td>\n",
       "      <td>111931</td>\n",
       "      <td>https://cdn.myanimelist.net/images/anime/10/19...</td>\n",
       "    </tr>\n",
       "    <tr>\n",
       "      <th>4</th>\n",
       "      <td>4</td>\n",
       "      <td>8</td>\n",
       "      <td>Bouken Ou Beet</td>\n",
       "      <td>6.94</td>\n",
       "      <td>Adventure, Fantasy, Supernatural</td>\n",
       "      <td>It is the dark century and the people are suff...</td>\n",
       "      <td>TV</td>\n",
       "      <td>52.0</td>\n",
       "      <td>Sep 30, 2004 to Sep 29, 2005</td>\n",
       "      <td>Finished Airing</td>\n",
       "      <td>Toei Animation</td>\n",
       "      <td>Manga</td>\n",
       "      <td>23 min per ep</td>\n",
       "      <td>PG - Children</td>\n",
       "      <td>4240.0</td>\n",
       "      <td>5126</td>\n",
       "      <td>14</td>\n",
       "      <td>15001</td>\n",
       "      <td>https://cdn.myanimelist.net/images/anime/7/215...</td>\n",
       "    </tr>\n",
       "  </tbody>\n",
       "</table>\n",
       "</div>"
      ],
      "text/plain": [
       "   Unnamed: 0  anime_id                             Name Score  \\\n",
       "0           0         1                     Cowboy Bebop  8.75   \n",
       "1           1         5  Cowboy Bebop: Tengoku no Tobira  8.38   \n",
       "2           2         6                           Trigun  8.22   \n",
       "3           3         7               Witch Hunter Robin  7.25   \n",
       "4           4         8                   Bouken Ou Beet  6.94   \n",
       "\n",
       "                                 Genres  \\\n",
       "0         Action, Award Winning, Sci-Fi   \n",
       "1                        Action, Sci-Fi   \n",
       "2             Action, Adventure, Sci-Fi   \n",
       "3  Action, Drama, Mystery, Supernatural   \n",
       "4      Adventure, Fantasy, Supernatural   \n",
       "\n",
       "                                            Synopsis   Type Episodes  \\\n",
       "0  Crime is timeless. By the year 2071, humanity ...     TV     26.0   \n",
       "1  Another day, another bounty—such is the life o...  Movie      1.0   \n",
       "2  Vash the Stampede is the man with a $$60,000,0...     TV     26.0   \n",
       "3  Robin Sena is a powerful craft user drafted in...     TV     26.0   \n",
       "4  It is the dark century and the people are suff...     TV     52.0   \n",
       "\n",
       "                          Aired           Status         Studios    Source  \\\n",
       "0   Apr 3, 1998 to Apr 24, 1999  Finished Airing         Sunrise  Original   \n",
       "1                   Sep 1, 2001  Finished Airing           Bones  Original   \n",
       "2   Apr 1, 1998 to Sep 30, 1998  Finished Airing        Madhouse     Manga   \n",
       "3   Jul 3, 2002 to Dec 25, 2002  Finished Airing         Sunrise  Original   \n",
       "4  Sep 30, 2004 to Sep 29, 2005  Finished Airing  Toei Animation     Manga   \n",
       "\n",
       "        Duration                          Rating    Rank  Popularity  \\\n",
       "0  24 min per ep  R - 17+ (violence & profanity)    41.0          43   \n",
       "1    1 hr 55 min  R - 17+ (violence & profanity)   189.0         602   \n",
       "2  24 min per ep       PG-13 - Teens 13 or older   328.0         246   \n",
       "3  25 min per ep       PG-13 - Teens 13 or older  2764.0        1795   \n",
       "4  23 min per ep                   PG - Children  4240.0        5126   \n",
       "\n",
       "   Favorites  Members                                          Image URL  \n",
       "0      78525  1771505  https://cdn.myanimelist.net/images/anime/4/196...  \n",
       "1       1448   360978  https://cdn.myanimelist.net/images/anime/1439/...  \n",
       "2      15035   727252  https://cdn.myanimelist.net/images/anime/7/203...  \n",
       "3        613   111931  https://cdn.myanimelist.net/images/anime/10/19...  \n",
       "4         14    15001  https://cdn.myanimelist.net/images/anime/7/215...  "
      ]
     },
     "execution_count": 3,
     "metadata": {},
     "output_type": "execute_result"
    }
   ],
   "source": [
    "df.head()"
   ]
  },
  {
   "cell_type": "code",
   "execution_count": 4,
   "id": "20a17b4c-237b-46f7-9bc4-8736f97d28c1",
   "metadata": {},
   "outputs": [
    {
     "data": {
      "text/plain": [
       "Index(['Unnamed: 0', 'anime_id', 'Name', 'Score', 'Genres', 'Synopsis', 'Type',\n",
       "       'Episodes', 'Aired', 'Status', 'Studios', 'Source', 'Duration',\n",
       "       'Rating', 'Rank', 'Popularity', 'Favorites', 'Members', 'Image URL'],\n",
       "      dtype='object')"
      ]
     },
     "execution_count": 4,
     "metadata": {},
     "output_type": "execute_result"
    }
   ],
   "source": [
    "df.columns"
   ]
  },
  {
   "cell_type": "code",
   "execution_count": 5,
   "id": "ba8308de-d676-4832-9a9b-173cb2a87189",
   "metadata": {},
   "outputs": [
    {
     "name": "stdout",
     "output_type": "stream",
     "text": [
      "<class 'pandas.core.frame.DataFrame'>\n",
      "RangeIndex: 24905 entries, 0 to 24904\n",
      "Data columns (total 19 columns):\n",
      " #   Column      Non-Null Count  Dtype \n",
      "---  ------      --------------  ----- \n",
      " 0   Unnamed: 0  24905 non-null  int64 \n",
      " 1   anime_id    24905 non-null  int64 \n",
      " 2   Name        24905 non-null  object\n",
      " 3   Score       24905 non-null  object\n",
      " 4   Genres      24905 non-null  object\n",
      " 5   Synopsis    24905 non-null  object\n",
      " 6   Type        24905 non-null  object\n",
      " 7   Episodes    24905 non-null  object\n",
      " 8   Aired       24905 non-null  object\n",
      " 9   Status      24905 non-null  object\n",
      " 10  Studios     24905 non-null  object\n",
      " 11  Source      24905 non-null  object\n",
      " 12  Duration    24905 non-null  object\n",
      " 13  Rating      24905 non-null  object\n",
      " 14  Rank        24905 non-null  object\n",
      " 15  Popularity  24905 non-null  int64 \n",
      " 16  Favorites   24905 non-null  int64 \n",
      " 17  Members     24905 non-null  int64 \n",
      " 18  Image URL   24905 non-null  object\n",
      "dtypes: int64(5), object(14)\n",
      "memory usage: 3.6+ MB\n"
     ]
    }
   ],
   "source": [
    "df.info()"
   ]
  },
  {
   "cell_type": "code",
   "execution_count": 6,
   "id": "13094863-4554-43c6-b004-d467ca3e0701",
   "metadata": {},
   "outputs": [
    {
     "data": {
      "text/plain": [
       "array(['TV', 'Movie', 'OVA', 'Special', 'ONA', 'Music', 'UNKNOWN'],\n",
       "      dtype=object)"
      ]
     },
     "execution_count": 6,
     "metadata": {},
     "output_type": "execute_result"
    }
   ],
   "source": [
    "df['Type'].unique()"
   ]
  },
  {
   "cell_type": "code",
   "execution_count": 7,
   "id": "70be75c0-afeb-475b-8a40-a15be12da318",
   "metadata": {},
   "outputs": [
    {
     "data": {
      "text/plain": [
       "array(['Action, Award Winning, Sci-Fi', 'Action, Sci-Fi',\n",
       "       'Action, Adventure, Sci-Fi', ..., 'Girls Love, Sci-Fi',\n",
       "       'Action, Comedy, Drama, Fantasy, Romance, Ecchi',\n",
       "       'Action, Adventure, Fantasy, Horror'], dtype=object)"
      ]
     },
     "execution_count": 7,
     "metadata": {},
     "output_type": "execute_result"
    }
   ],
   "source": [
    "df['Genres'].unique()"
   ]
  },
  {
   "cell_type": "code",
   "execution_count": 23,
   "id": "4d8c2456-508e-4e09-80eb-30461c7bf881",
   "metadata": {},
   "outputs": [
    {
     "name": "stdout",
     "output_type": "stream",
     "text": [
      "['Adventure', 'Action', ' Mystery', ' Sci-Fi', 'Ecchi', 'Fantasy', ' Comedy', 'Supernatural', 'Girls Love', 'Sports', 'Romance', ' Horror', ' Fantasy', ' Girls Love', 'Hentai', 'Horror', 'Award Winning', 'Erotica', ' Adventure', ' Slice of Life', ' Drama', 'Gourmet', ' Romance', 'Sci-Fi', 'Drama', ' Boys Love', ' Gourmet', 'Boys Love', ' Suspense', ' Award Winning', ' Sports', 'Slice of Life', 'UNKNOWN', ' Supernatural', 'Avant Garde', ' Hentai', ' Erotica', 'Suspense', ' Avant Garde', ' Ecchi', 'Comedy', 'Mystery']\n"
     ]
    }
   ],
   "source": [
    "Genress = set()\n",
    "\n",
    "for gen in df['Genres']:\n",
    "    genre = gen.split(',')\n",
    "\n",
    "    for gens in genre :\n",
    "        Genress.add(gens)\n",
    "#Genress = set(reversed(list(Genress)))\n",
    "Genress = list(Genress)\n",
    "Genress.reverse()\n",
    "print(Genress)"
   ]
  },
  {
   "cell_type": "code",
   "execution_count": 24,
   "id": "6da27f77-1f86-4a30-a0ae-5cf40fd7578b",
   "metadata": {},
   "outputs": [
    {
     "data": {
      "text/plain": [
       "array(['R - 17+ (violence & profanity)', 'PG-13 - Teens 13 or older',\n",
       "       'PG - Children', 'R+ - Mild Nudity', 'G - All Ages', 'Rx - Hentai',\n",
       "       'UNKNOWN'], dtype=object)"
      ]
     },
     "execution_count": 24,
     "metadata": {},
     "output_type": "execute_result"
    }
   ],
   "source": [
    "df['Rating'].unique()"
   ]
  },
  {
   "cell_type": "code",
   "execution_count": 25,
   "id": "74f8b17e-c2a1-438c-a003-ce8e4758fe31",
   "metadata": {},
   "outputs": [
    {
     "data": {
      "text/plain": [
       "array(['Cowboy Bebop', 'Cowboy Bebop: Tengoku no Tobira', 'Trigun', ...,\n",
       "       'Di Yi Xulie', 'Bokura no Saishuu Sensou', 'Shijuuku Nichi'],\n",
       "      dtype=object)"
      ]
     },
     "execution_count": 25,
     "metadata": {},
     "output_type": "execute_result"
    }
   ],
   "source": [
    "df['Name'].unique()"
   ]
  },
  {
   "cell_type": "code",
   "execution_count": null,
   "id": "8ea8ed82-7986-4791-97ee-1db74ab10e2b",
   "metadata": {},
   "outputs": [],
   "source": []
  }
 ],
 "metadata": {
  "kernelspec": {
   "display_name": "Python 3 (ipykernel)",
   "language": "python",
   "name": "python3"
  },
  "language_info": {
   "codemirror_mode": {
    "name": "ipython",
    "version": 3
   },
   "file_extension": ".py",
   "mimetype": "text/x-python",
   "name": "python",
   "nbconvert_exporter": "python",
   "pygments_lexer": "ipython3",
   "version": "3.11.7"
  }
 },
 "nbformat": 4,
 "nbformat_minor": 5
}
