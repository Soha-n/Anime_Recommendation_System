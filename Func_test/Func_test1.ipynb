{
 "cells": [
  {
   "cell_type": "code",
   "execution_count": 51,
   "id": "2bd85acd-e9bf-4679-b463-5be51d718a9d",
   "metadata": {},
   "outputs": [],
   "source": [
    "import numpy as np\n",
    "import pandas as pd\n",
    "from IPython.display import Markdown as md\n",
    "\n",
    "from sklearn.feature_extraction.text import CountVectorizer\n",
    "from sklearn.metrics.pairwise import cosine_similarity\n",
    "\n",
    "\n",
    "import pickle\n",
    "import warnings\n",
    "warnings.filterwarnings(action='ignore')"
   ]
  },
  {
   "cell_type": "code",
   "execution_count": 52,
   "id": "edb8563e-39dd-4e04-bea5-70f0904e0873",
   "metadata": {},
   "outputs": [],
   "source": [
    "df = pd.read_csv('Anime_dataset_2023_1.csv')"
   ]
  },
  {
   "cell_type": "code",
   "execution_count": 53,
   "id": "6cd7e80c-0c97-430a-817c-318b15c0c161",
   "metadata": {},
   "outputs": [
    {
     "data": {
      "text/html": [
       "<div>\n",
       "<style scoped>\n",
       "    .dataframe tbody tr th:only-of-type {\n",
       "        vertical-align: middle;\n",
       "    }\n",
       "\n",
       "    .dataframe tbody tr th {\n",
       "        vertical-align: top;\n",
       "    }\n",
       "\n",
       "    .dataframe thead th {\n",
       "        text-align: right;\n",
       "    }\n",
       "</style>\n",
       "<table border=\"1\" class=\"dataframe\">\n",
       "  <thead>\n",
       "    <tr style=\"text-align: right;\">\n",
       "      <th></th>\n",
       "      <th>Unnamed: 0</th>\n",
       "      <th>anime_id</th>\n",
       "      <th>Name</th>\n",
       "      <th>Score</th>\n",
       "      <th>Genres</th>\n",
       "      <th>Synopsis</th>\n",
       "      <th>Type</th>\n",
       "      <th>Episodes</th>\n",
       "      <th>Aired</th>\n",
       "      <th>Status</th>\n",
       "      <th>Studios</th>\n",
       "      <th>Source</th>\n",
       "      <th>Duration</th>\n",
       "      <th>Rating</th>\n",
       "      <th>Rank</th>\n",
       "      <th>Popularity</th>\n",
       "      <th>Favorites</th>\n",
       "      <th>Members</th>\n",
       "      <th>Image URL</th>\n",
       "    </tr>\n",
       "  </thead>\n",
       "  <tbody>\n",
       "    <tr>\n",
       "      <th>0</th>\n",
       "      <td>0</td>\n",
       "      <td>1</td>\n",
       "      <td>Cowboy Bebop</td>\n",
       "      <td>8.75</td>\n",
       "      <td>Action, Award Winning, Sci-Fi</td>\n",
       "      <td>Crime is timeless. By the year 2071, humanity ...</td>\n",
       "      <td>TV</td>\n",
       "      <td>26.0</td>\n",
       "      <td>Apr 3, 1998 to Apr 24, 1999</td>\n",
       "      <td>Finished Airing</td>\n",
       "      <td>Sunrise</td>\n",
       "      <td>Original</td>\n",
       "      <td>24 min per ep</td>\n",
       "      <td>R - 17+ (violence &amp; profanity)</td>\n",
       "      <td>41.0</td>\n",
       "      <td>43</td>\n",
       "      <td>78525</td>\n",
       "      <td>1771505</td>\n",
       "      <td>https://cdn.myanimelist.net/images/anime/4/196...</td>\n",
       "    </tr>\n",
       "    <tr>\n",
       "      <th>1</th>\n",
       "      <td>1</td>\n",
       "      <td>5</td>\n",
       "      <td>Cowboy Bebop: Tengoku no Tobira</td>\n",
       "      <td>8.38</td>\n",
       "      <td>Action, Sci-Fi</td>\n",
       "      <td>Another day, another bounty—such is the life o...</td>\n",
       "      <td>Movie</td>\n",
       "      <td>1.0</td>\n",
       "      <td>Sep 1, 2001</td>\n",
       "      <td>Finished Airing</td>\n",
       "      <td>Bones</td>\n",
       "      <td>Original</td>\n",
       "      <td>1 hr 55 min</td>\n",
       "      <td>R - 17+ (violence &amp; profanity)</td>\n",
       "      <td>189.0</td>\n",
       "      <td>602</td>\n",
       "      <td>1448</td>\n",
       "      <td>360978</td>\n",
       "      <td>https://cdn.myanimelist.net/images/anime/1439/...</td>\n",
       "    </tr>\n",
       "    <tr>\n",
       "      <th>2</th>\n",
       "      <td>2</td>\n",
       "      <td>6</td>\n",
       "      <td>Trigun</td>\n",
       "      <td>8.22</td>\n",
       "      <td>Action, Adventure, Sci-Fi</td>\n",
       "      <td>Vash the Stampede is the man with a $$60,000,0...</td>\n",
       "      <td>TV</td>\n",
       "      <td>26.0</td>\n",
       "      <td>Apr 1, 1998 to Sep 30, 1998</td>\n",
       "      <td>Finished Airing</td>\n",
       "      <td>Madhouse</td>\n",
       "      <td>Manga</td>\n",
       "      <td>24 min per ep</td>\n",
       "      <td>PG-13 - Teens 13 or older</td>\n",
       "      <td>328.0</td>\n",
       "      <td>246</td>\n",
       "      <td>15035</td>\n",
       "      <td>727252</td>\n",
       "      <td>https://cdn.myanimelist.net/images/anime/7/203...</td>\n",
       "    </tr>\n",
       "    <tr>\n",
       "      <th>3</th>\n",
       "      <td>3</td>\n",
       "      <td>7</td>\n",
       "      <td>Witch Hunter Robin</td>\n",
       "      <td>7.25</td>\n",
       "      <td>Action, Drama, Mystery, Supernatural</td>\n",
       "      <td>Robin Sena is a powerful craft user drafted in...</td>\n",
       "      <td>TV</td>\n",
       "      <td>26.0</td>\n",
       "      <td>Jul 3, 2002 to Dec 25, 2002</td>\n",
       "      <td>Finished Airing</td>\n",
       "      <td>Sunrise</td>\n",
       "      <td>Original</td>\n",
       "      <td>25 min per ep</td>\n",
       "      <td>PG-13 - Teens 13 or older</td>\n",
       "      <td>2764.0</td>\n",
       "      <td>1795</td>\n",
       "      <td>613</td>\n",
       "      <td>111931</td>\n",
       "      <td>https://cdn.myanimelist.net/images/anime/10/19...</td>\n",
       "    </tr>\n",
       "    <tr>\n",
       "      <th>4</th>\n",
       "      <td>4</td>\n",
       "      <td>8</td>\n",
       "      <td>Bouken Ou Beet</td>\n",
       "      <td>6.94</td>\n",
       "      <td>Adventure, Fantasy, Supernatural</td>\n",
       "      <td>It is the dark century and the people are suff...</td>\n",
       "      <td>TV</td>\n",
       "      <td>52.0</td>\n",
       "      <td>Sep 30, 2004 to Sep 29, 2005</td>\n",
       "      <td>Finished Airing</td>\n",
       "      <td>Toei Animation</td>\n",
       "      <td>Manga</td>\n",
       "      <td>23 min per ep</td>\n",
       "      <td>PG - Children</td>\n",
       "      <td>4240.0</td>\n",
       "      <td>5126</td>\n",
       "      <td>14</td>\n",
       "      <td>15001</td>\n",
       "      <td>https://cdn.myanimelist.net/images/anime/7/215...</td>\n",
       "    </tr>\n",
       "  </tbody>\n",
       "</table>\n",
       "</div>"
      ],
      "text/plain": [
       "   Unnamed: 0  anime_id                             Name Score  \\\n",
       "0           0         1                     Cowboy Bebop  8.75   \n",
       "1           1         5  Cowboy Bebop: Tengoku no Tobira  8.38   \n",
       "2           2         6                           Trigun  8.22   \n",
       "3           3         7               Witch Hunter Robin  7.25   \n",
       "4           4         8                   Bouken Ou Beet  6.94   \n",
       "\n",
       "                                 Genres  \\\n",
       "0         Action, Award Winning, Sci-Fi   \n",
       "1                        Action, Sci-Fi   \n",
       "2             Action, Adventure, Sci-Fi   \n",
       "3  Action, Drama, Mystery, Supernatural   \n",
       "4      Adventure, Fantasy, Supernatural   \n",
       "\n",
       "                                            Synopsis   Type Episodes  \\\n",
       "0  Crime is timeless. By the year 2071, humanity ...     TV     26.0   \n",
       "1  Another day, another bounty—such is the life o...  Movie      1.0   \n",
       "2  Vash the Stampede is the man with a $$60,000,0...     TV     26.0   \n",
       "3  Robin Sena is a powerful craft user drafted in...     TV     26.0   \n",
       "4  It is the dark century and the people are suff...     TV     52.0   \n",
       "\n",
       "                          Aired           Status         Studios    Source  \\\n",
       "0   Apr 3, 1998 to Apr 24, 1999  Finished Airing         Sunrise  Original   \n",
       "1                   Sep 1, 2001  Finished Airing           Bones  Original   \n",
       "2   Apr 1, 1998 to Sep 30, 1998  Finished Airing        Madhouse     Manga   \n",
       "3   Jul 3, 2002 to Dec 25, 2002  Finished Airing         Sunrise  Original   \n",
       "4  Sep 30, 2004 to Sep 29, 2005  Finished Airing  Toei Animation     Manga   \n",
       "\n",
       "        Duration                          Rating    Rank  Popularity  \\\n",
       "0  24 min per ep  R - 17+ (violence & profanity)    41.0          43   \n",
       "1    1 hr 55 min  R - 17+ (violence & profanity)   189.0         602   \n",
       "2  24 min per ep       PG-13 - Teens 13 or older   328.0         246   \n",
       "3  25 min per ep       PG-13 - Teens 13 or older  2764.0        1795   \n",
       "4  23 min per ep                   PG - Children  4240.0        5126   \n",
       "\n",
       "   Favorites  Members                                          Image URL  \n",
       "0      78525  1771505  https://cdn.myanimelist.net/images/anime/4/196...  \n",
       "1       1448   360978  https://cdn.myanimelist.net/images/anime/1439/...  \n",
       "2      15035   727252  https://cdn.myanimelist.net/images/anime/7/203...  \n",
       "3        613   111931  https://cdn.myanimelist.net/images/anime/10/19...  \n",
       "4         14    15001  https://cdn.myanimelist.net/images/anime/7/215...  "
      ]
     },
     "execution_count": 53,
     "metadata": {},
     "output_type": "execute_result"
    }
   ],
   "source": [
    "df.head()"
   ]
  },
  {
   "cell_type": "code",
   "execution_count": 54,
   "id": "e417d2d1-6833-4632-90ea-c5c3d51c986a",
   "metadata": {},
   "outputs": [
    {
     "data": {
      "text/plain": [
       "Index(['Unnamed: 0', 'anime_id', 'Name', 'Score', 'Genres', 'Synopsis', 'Type',\n",
       "       'Episodes', 'Aired', 'Status', 'Studios', 'Source', 'Duration',\n",
       "       'Rating', 'Rank', 'Popularity', 'Favorites', 'Members', 'Image URL'],\n",
       "      dtype='object')"
      ]
     },
     "execution_count": 54,
     "metadata": {},
     "output_type": "execute_result"
    }
   ],
   "source": [
    "df.columns"
   ]
  },
  {
   "cell_type": "code",
   "execution_count": 55,
   "id": "ac874378-7210-41dd-ad6b-830ab37ce062",
   "metadata": {},
   "outputs": [],
   "source": [
    "def Q1():\n",
    "    print(\"\\n  Have you delved into the world of anime before, perhaps? \\n\")\n",
    "    ans = input(\"a. Yes\\nb. No\\n\\nYour answer (a/b): \").strip().lower()\n",
    "\n",
    "    while ans not in ['a', 'b']:\n",
    "        print(\"\\nPlease enter a valid option (a/b).\")\n",
    "        ans = input(\"Your answer (a/b): \").strip().lower()\n",
    "    if ans == 'a':\n",
    "        return True\n",
    "    else:\n",
    "        return False\n",
    "        "
   ]
  },
  {
   "cell_type": "code",
   "execution_count": 56,
   "id": "360dae4c-a142-46fc-bf37-61fa491a640f",
   "metadata": {},
   "outputs": [],
   "source": [
    "def Q2():\n",
    "    print(\"\\n Do you find solace and excitement in the captivating world of anime? \\n\")\n",
    "    ans = input(\"a. Yes\\nb. No\\n\\nYour answer (a/b): \").strip().lower()\n",
    "\n",
    "    while ans not in ['a', 'b']:\n",
    "        print(\"\\nPlease enter a valid option (a/b).\")\n",
    "        ans = input(\"Your answer (a/b): \").strip().lower()\n",
    "    if ans == 'a':\n",
    "        print(\"\\n Excellent! Together, let's uncover the anime destined to resonate with your soul \\n\")\n",
    "        return True\n",
    "    else:\n",
    "        print(\"Fear not! We shall embark on a quest to discover the ideal anime suited just for you!\")\n",
    "        return False\n",
    "        "
   ]
  },
  {
   "cell_type": "code",
   "execution_count": 57,
   "id": "d1d32e9a-1360-4d90-9427-a19c2121b351",
   "metadata": {},
   "outputs": [],
   "source": [
    "def Q3():\n",
    "   \n",
    "    ans = input(\"\\n What anime holds the cherished place in the depths of your heart ? \\n \").strip().lower()\n",
    "    return ans\n",
    "        "
   ]
  },
  {
   "cell_type": "code",
   "execution_count": 58,
   "id": "90df560a-4d05-4775-af42-ceaf17ebc2df",
   "metadata": {},
   "outputs": [],
   "source": [
    "def Q4():\n",
    "    genres = ['Adventure', 'Action', ' Mystery', ' Sci-Fi', 'Ecchi', 'Fantasy',\n",
    "              ' Comedy', 'Supernatural', 'Girls Love', 'Sports', 'Romance', ' Horror',\n",
    "              ' Fantasy', ' Girls Love', 'Hentai', 'Horror', 'Award Winning', 'Erotica',\n",
    "              ' Adventure', ' Slice of Life', ' Drama', 'Gourmet', ' Romance', 'Sci-Fi',\n",
    "              'Drama', ' Boys Love', ' Gourmet', 'Boys Love', ' Suspense', ' Award Winning',\n",
    "              ' Sports', 'Slice of Life', 'UNKNOWN', ' Supernatural', 'Avant Garde', ' Hentai', \n",
    "              ' Erotica', 'Suspense', ' Avant Garde', ' Ecchi', 'Comedy', 'Mystery']\n",
    "    print(\"\\n What genres stir the flames of passion within your soul? \\n\")\n",
    "    print(\"OPTIONS( 'Any for all') : \\n\\t\")\n",
    "\n",
    "    for i,gen in enumerate(genres,start=1):\n",
    "        print(f\"{i}:{gen}\")\n",
    "\n",
    "    select = input(\"\\n Please enter genres you like (comma-separated):\").strip().split(',')\n",
    "\n",
    "    if 'Any' in select:\n",
    "        return genres\n",
    "        \n",
    "    return select\n"
   ]
  },
  {
   "cell_type": "code",
   "execution_count": 59,
   "id": "31048bd9-d953-4c53-9ec1-f56d5c36d650",
   "metadata": {},
   "outputs": [],
   "source": [
    "def Q5():\n",
    "    rating = ['R - 17+ (violence & profanity)', 'PG-13 - Teens 13 or older',\n",
    "       'PG - Children', 'R+ - Mild Nudity', 'G - All Ages', 'Rx - Hentai','Any']\n",
    "    \n",
    "    print(\"\\n What rating of anime ignites your passion for adventure? \\n\")\n",
    "    print(\"OPTIONS( 'Any for all') : \\n\\t\")\n",
    "\n",
    "    for i,rat in enumerate(rating,start=1):\n",
    "        print(f\"{i}:{rat}\")\n",
    "\n",
    "    select = input(\"\\n Please enter genres you like (comma-separated):\").strip().split(',')\n",
    "    if 'Any' in select:\n",
    "        select = rating\n",
    "    return select\n",
    "    "
   ]
  },
  {
   "cell_type": "code",
   "execution_count": 60,
   "id": "7648a1c9-8962-433d-b764-5c156ed2a8ef",
   "metadata": {},
   "outputs": [],
   "source": [
    "def Q6():\n",
    "    type = ['TV', 'Movie', 'OVA', 'Special', 'ONA', 'Music','Any']\n",
    "    \n",
    "    print(\"\\n  What kind of anime sets your heart ablaze with anticipation? \\n\")\n",
    "    print(\"OPTIONS( 'Any for all') : \\n\\t\")\n",
    "\n",
    "    for i,typ in enumerate(type,start=1):\n",
    "        print(f\"{i}:{typ}\")\n",
    "\n",
    "    select = input(\"\\n Please enter genres you like (comma-separated):\").strip().split(',')\n",
    "    if 'Any' in select:\n",
    "        select = type\n",
    "    return select\n",
    "    "
   ]
  },
  {
   "cell_type": "code",
   "execution_count": 61,
   "id": "67b431e3-c065-46bb-9908-85ee0a0eb44a",
   "metadata": {},
   "outputs": [],
   "source": [
    "def intro():\n",
    "    intro = ''' # Anime Recommendation System\n",
    "\n",
    "Welcome to our Anime Recommendation System! Are you lost in the vast universe of anime, wondering where to begin or what to watch next? Fear not, as we are here to guide you through the myriad of genres and titles to find the perfect anime that suits your taste.\n",
    "\n",
    "## Introduction\n",
    "\n",
    "Kon'nichiwa, fellow anime enthusiast! 🌟\n",
    "\n",
    "Anime, a form of Japanese animation, has gained immense popularity worldwide for its diverse genres, captivating storytelling, and vibrant characters. With thousands of anime series and movies available, selecting the right one can be a daunting task. Our recommendation system is here to simplify that process for you.\n",
    "\n",
    "## How It Works\n",
    "\n",
    "Our recommendation system works by asking you a series of questions about your preferences. Based on your answers, it will analyze your tastes and suggest a list of anime titles tailored to your liking.\n",
    "\n",
    "## How to Use\n",
    "\n",
    "To get started, simply answer the questions provided. You can select multiple options for some questions. Once you've completed the questionnaire, our system will generate a list of anime recommendations just for you.\n",
    "\n",
    "Get ready to embark on an exciting anime journey! '''\n",
    "\n",
    "    return intro"
   ]
  },
  {
   "cell_type": "code",
   "execution_count": 62,
   "id": "3dabb0e4-8251-4e82-930c-782df89f0ee4",
   "metadata": {},
   "outputs": [],
   "source": [
    "def ask():\n",
    "   # Q1 = Q1()\n",
    "    if(Q1()):\n",
    "        #yes\n",
    "       # Q2 = Q2()\n",
    "        if(Q2()):\n",
    "            # yes\n",
    "            fav_anime = Q3()\n",
    "            # anime is selected!!!\n",
    "        else:\n",
    "            #select generes\n",
    "            fav_gen = Q4()\n",
    "        fav_gen = Q4()\n",
    "        fav_rat = Q5()\n",
    "        fav_typ = Q6()\n",
    "    \n",
    "    \n",
    "        \n",
    "        \n",
    "    "
   ]
  },
  {
   "cell_type": "code",
   "execution_count": 63,
   "id": "fe2a0a9b-8051-4133-9c89-dd907e835de6",
   "metadata": {},
   "outputs": [],
   "source": [
    "def ask1():\n",
    "    ans = {}\n",
    "    #Q1 = Q1()\n",
    "    if(Q1()):\n",
    "        #yes\n",
    "       # Q2 = Q2()\n",
    "        if(Q2()):\n",
    "            # yes\n",
    "            ans['fav_anime'] = Q3()\n",
    "            # anime is selected!!!\n",
    "        else:\n",
    "            #select generes\n",
    "            ans['fav_gen'] = Q4()\n",
    "        ans['fav_gen'] = Q4()\n",
    "        ans['fav_rat'] = Q5()\n",
    "        ans['fav_typ'] = Q6()\n",
    "    return ans"
   ]
  },
  {
   "cell_type": "code",
   "execution_count": 64,
   "id": "b0191046-385b-4114-a35a-382b3c010e1a",
   "metadata": {},
   "outputs": [
    {
     "name": "stdout",
     "output_type": "stream",
     "text": [
      "\n",
      "  Have you delved into the world of anime before, perhaps? \n",
      "\n"
     ]
    },
    {
     "name": "stdin",
     "output_type": "stream",
     "text": [
      "a. Yes\n",
      "b. No\n",
      "\n",
      "Your answer (a/b):  a\n"
     ]
    },
    {
     "name": "stdout",
     "output_type": "stream",
     "text": [
      "\n",
      " Do you find solace and excitement in the captivating world of anime? \n",
      "\n"
     ]
    },
    {
     "name": "stdin",
     "output_type": "stream",
     "text": [
      "a. Yes\n",
      "b. No\n",
      "\n",
      "Your answer (a/b):  a\n"
     ]
    },
    {
     "name": "stdout",
     "output_type": "stream",
     "text": [
      "\n",
      " Excellent! Together, let's uncover the anime destined to resonate with your soul \n",
      "\n"
     ]
    },
    {
     "name": "stdin",
     "output_type": "stream",
     "text": [
      "\n",
      " What anime holds the cherished place in the depths of your heart ? \n",
      "  One Piece\n"
     ]
    },
    {
     "name": "stdout",
     "output_type": "stream",
     "text": [
      "\n",
      " What genres stir the flames of passion within your soul? \n",
      "\n",
      "OPTIONS( 'Any for all') : \n",
      "\t\n",
      "1:Adventure\n",
      "2:Action\n",
      "3: Mystery\n",
      "4: Sci-Fi\n",
      "5:Ecchi\n",
      "6:Fantasy\n",
      "7: Comedy\n",
      "8:Supernatural\n",
      "9:Girls Love\n",
      "10:Sports\n",
      "11:Romance\n",
      "12: Horror\n",
      "13: Fantasy\n",
      "14: Girls Love\n",
      "15:Hentai\n",
      "16:Horror\n",
      "17:Award Winning\n",
      "18:Erotica\n",
      "19: Adventure\n",
      "20: Slice of Life\n",
      "21: Drama\n",
      "22:Gourmet\n",
      "23: Romance\n",
      "24:Sci-Fi\n",
      "25:Drama\n",
      "26: Boys Love\n",
      "27: Gourmet\n",
      "28:Boys Love\n",
      "29: Suspense\n",
      "30: Award Winning\n",
      "31: Sports\n",
      "32:Slice of Life\n",
      "33:UNKNOWN\n",
      "34: Supernatural\n",
      "35:Avant Garde\n",
      "36: Hentai\n",
      "37: Erotica\n",
      "38:Suspense\n",
      "39: Avant Garde\n",
      "40: Ecchi\n",
      "41:Comedy\n",
      "42:Mystery\n"
     ]
    },
    {
     "name": "stdin",
     "output_type": "stream",
     "text": [
      "\n",
      " Please enter genres you like (comma-separated): Suspense,Sports,Drama,Ecchi\n"
     ]
    },
    {
     "name": "stdout",
     "output_type": "stream",
     "text": [
      "\n",
      " What rating of anime ignites your passion for adventure? \n",
      "\n",
      "OPTIONS( 'Any for all') : \n",
      "\t\n",
      "1:R - 17+ (violence & profanity)\n",
      "2:PG-13 - Teens 13 or older\n",
      "3:PG - Children\n",
      "4:R+ - Mild Nudity\n",
      "5:G - All Ages\n",
      "6:Rx - Hentai\n",
      "7:Any\n"
     ]
    },
    {
     "name": "stdin",
     "output_type": "stream",
     "text": [
      "\n",
      " Please enter genres you like (comma-separated): Any\n"
     ]
    },
    {
     "name": "stdout",
     "output_type": "stream",
     "text": [
      "\n",
      "  What kind of anime sets your heart ablaze with anticipation? \n",
      "\n",
      "OPTIONS( 'Any for all') : \n",
      "\t\n",
      "1:TV\n",
      "2:Movie\n",
      "3:OVA\n",
      "4:Special\n",
      "5:ONA\n",
      "6:Music\n",
      "7:Any\n"
     ]
    },
    {
     "name": "stdin",
     "output_type": "stream",
     "text": [
      "\n",
      " Please enter genres you like (comma-separated): Any\n"
     ]
    }
   ],
   "source": [
    "ans = ask1()"
   ]
  },
  {
   "cell_type": "code",
   "execution_count": 65,
   "id": "99489aae-bac8-489c-8988-88d5eda54144",
   "metadata": {},
   "outputs": [
    {
     "data": {
      "text/plain": [
       "{'fav_anime': 'one piece',\n",
       " 'fav_gen': ['Suspense', 'Sports', 'Drama', 'Ecchi'],\n",
       " 'fav_rat': ['R - 17+ (violence & profanity)',\n",
       "  'PG-13 - Teens 13 or older',\n",
       "  'PG - Children',\n",
       "  'R+ - Mild Nudity',\n",
       "  'G - All Ages',\n",
       "  'Rx - Hentai',\n",
       "  'Any'],\n",
       " 'fav_typ': ['TV', 'Movie', 'OVA', 'Special', 'ONA', 'Music', 'Any']}"
      ]
     },
     "execution_count": 65,
     "metadata": {},
     "output_type": "execute_result"
    }
   ],
   "source": [
    "ans"
   ]
  },
  {
   "cell_type": "code",
   "execution_count": 66,
   "id": "cc2c736b-8f44-450f-9057-b3ec5fd65744",
   "metadata": {},
   "outputs": [],
   "source": [
    "fav_anime = ans['fav_anime']\n",
    "fav_gen = ans['fav_gen']\n",
    "fav_rat = ans['fav_rat']\n",
    "fav_typ = ans['fav_typ']"
   ]
  },
  {
   "cell_type": "code",
   "execution_count": 67,
   "id": "881ca6d7-35e8-49fd-8360-b524e5737cf1",
   "metadata": {},
   "outputs": [
    {
     "data": {
      "text/plain": [
       "'one piece'"
      ]
     },
     "execution_count": 67,
     "metadata": {},
     "output_type": "execute_result"
    }
   ],
   "source": [
    "fav_anime"
   ]
  },
  {
   "cell_type": "code",
   "execution_count": 68,
   "id": "22480393-c130-4f11-bd14-4f12905ce356",
   "metadata": {},
   "outputs": [
    {
     "data": {
      "text/plain": [
       "['Suspense', 'Sports', 'Drama', 'Ecchi']"
      ]
     },
     "execution_count": 68,
     "metadata": {},
     "output_type": "execute_result"
    }
   ],
   "source": [
    "fav_gen"
   ]
  },
  {
   "cell_type": "code",
   "execution_count": 69,
   "id": "10599d06-5603-49cb-b2ff-d37b3fe615e5",
   "metadata": {},
   "outputs": [
    {
     "data": {
      "text/plain": [
       "['R - 17+ (violence & profanity)',\n",
       " 'PG-13 - Teens 13 or older',\n",
       " 'PG - Children',\n",
       " 'R+ - Mild Nudity',\n",
       " 'G - All Ages',\n",
       " 'Rx - Hentai',\n",
       " 'Any']"
      ]
     },
     "execution_count": 69,
     "metadata": {},
     "output_type": "execute_result"
    }
   ],
   "source": [
    "fav_rat"
   ]
  },
  {
   "cell_type": "code",
   "execution_count": 70,
   "id": "fc56bb93-7ae5-4b57-b96e-e42df37203ce",
   "metadata": {},
   "outputs": [
    {
     "data": {
      "text/plain": [
       "['TV', 'Movie', 'OVA', 'Special', 'ONA', 'Music', 'Any']"
      ]
     },
     "execution_count": 70,
     "metadata": {},
     "output_type": "execute_result"
    }
   ],
   "source": [
    "fav_typ"
   ]
  },
  {
   "cell_type": "code",
   "execution_count": null,
   "id": "68ee0f15-2b5d-414b-a840-b2035d6c5e81",
   "metadata": {},
   "outputs": [],
   "source": []
  }
 ],
 "metadata": {
  "kernelspec": {
   "display_name": "Python 3 (ipykernel)",
   "language": "python",
   "name": "python3"
  },
  "language_info": {
   "codemirror_mode": {
    "name": "ipython",
    "version": 3
   },
   "file_extension": ".py",
   "mimetype": "text/x-python",
   "name": "python",
   "nbconvert_exporter": "python",
   "pygments_lexer": "ipython3",
   "version": "3.11.7"
  }
 },
 "nbformat": 4,
 "nbformat_minor": 5
}
