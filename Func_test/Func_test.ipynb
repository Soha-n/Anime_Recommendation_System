{
 "cells": [
  {
   "cell_type": "code",
   "execution_count": 1,
   "id": "2bd85acd-e9bf-4679-b463-5be51d718a9d",
   "metadata": {},
   "outputs": [],
   "source": [
    "import numpy as np\n",
    "import pandas as pd\n",
    "from IPython.display import Markdown as md\n",
    "\n",
    "from sklearn.feature_extraction.text import CountVectorizer\n",
    "from sklearn.metrics.pairwise import cosine_similarity\n",
    "\n",
    "\n",
    "import pickle\n",
    "import warnings\n",
    "warnings.filterwarnings(action='ignore')"
   ]
  },
  {
   "cell_type": "code",
   "execution_count": 2,
   "id": "edb8563e-39dd-4e04-bea5-70f0904e0873",
   "metadata": {},
   "outputs": [],
   "source": [
    "df = pd.read_csv('Anime_dataset_2023_1.csv')"
   ]
  },
  {
   "cell_type": "code",
   "execution_count": 3,
   "id": "6cd7e80c-0c97-430a-817c-318b15c0c161",
   "metadata": {},
   "outputs": [
    {
     "data": {
      "text/html": [
       "<div>\n",
       "<style scoped>\n",
       "    .dataframe tbody tr th:only-of-type {\n",
       "        vertical-align: middle;\n",
       "    }\n",
       "\n",
       "    .dataframe tbody tr th {\n",
       "        vertical-align: top;\n",
       "    }\n",
       "\n",
       "    .dataframe thead th {\n",
       "        text-align: right;\n",
       "    }\n",
       "</style>\n",
       "<table border=\"1\" class=\"dataframe\">\n",
       "  <thead>\n",
       "    <tr style=\"text-align: right;\">\n",
       "      <th></th>\n",
       "      <th>Unnamed: 0</th>\n",
       "      <th>anime_id</th>\n",
       "      <th>Name</th>\n",
       "      <th>Score</th>\n",
       "      <th>Genres</th>\n",
       "      <th>Synopsis</th>\n",
       "      <th>Type</th>\n",
       "      <th>Episodes</th>\n",
       "      <th>Aired</th>\n",
       "      <th>Status</th>\n",
       "      <th>Studios</th>\n",
       "      <th>Source</th>\n",
       "      <th>Duration</th>\n",
       "      <th>Rating</th>\n",
       "      <th>Rank</th>\n",
       "      <th>Popularity</th>\n",
       "      <th>Favorites</th>\n",
       "      <th>Members</th>\n",
       "      <th>Image URL</th>\n",
       "    </tr>\n",
       "  </thead>\n",
       "  <tbody>\n",
       "    <tr>\n",
       "      <th>0</th>\n",
       "      <td>0</td>\n",
       "      <td>1</td>\n",
       "      <td>Cowboy Bebop</td>\n",
       "      <td>8.75</td>\n",
       "      <td>Action, Award Winning, Sci-Fi</td>\n",
       "      <td>Crime is timeless. By the year 2071, humanity ...</td>\n",
       "      <td>TV</td>\n",
       "      <td>26.0</td>\n",
       "      <td>Apr 3, 1998 to Apr 24, 1999</td>\n",
       "      <td>Finished Airing</td>\n",
       "      <td>Sunrise</td>\n",
       "      <td>Original</td>\n",
       "      <td>24 min per ep</td>\n",
       "      <td>R - 17+ (violence &amp; profanity)</td>\n",
       "      <td>41.0</td>\n",
       "      <td>43</td>\n",
       "      <td>78525</td>\n",
       "      <td>1771505</td>\n",
       "      <td>https://cdn.myanimelist.net/images/anime/4/196...</td>\n",
       "    </tr>\n",
       "    <tr>\n",
       "      <th>1</th>\n",
       "      <td>1</td>\n",
       "      <td>5</td>\n",
       "      <td>Cowboy Bebop: Tengoku no Tobira</td>\n",
       "      <td>8.38</td>\n",
       "      <td>Action, Sci-Fi</td>\n",
       "      <td>Another day, another bounty—such is the life o...</td>\n",
       "      <td>Movie</td>\n",
       "      <td>1.0</td>\n",
       "      <td>Sep 1, 2001</td>\n",
       "      <td>Finished Airing</td>\n",
       "      <td>Bones</td>\n",
       "      <td>Original</td>\n",
       "      <td>1 hr 55 min</td>\n",
       "      <td>R - 17+ (violence &amp; profanity)</td>\n",
       "      <td>189.0</td>\n",
       "      <td>602</td>\n",
       "      <td>1448</td>\n",
       "      <td>360978</td>\n",
       "      <td>https://cdn.myanimelist.net/images/anime/1439/...</td>\n",
       "    </tr>\n",
       "    <tr>\n",
       "      <th>2</th>\n",
       "      <td>2</td>\n",
       "      <td>6</td>\n",
       "      <td>Trigun</td>\n",
       "      <td>8.22</td>\n",
       "      <td>Action, Adventure, Sci-Fi</td>\n",
       "      <td>Vash the Stampede is the man with a $$60,000,0...</td>\n",
       "      <td>TV</td>\n",
       "      <td>26.0</td>\n",
       "      <td>Apr 1, 1998 to Sep 30, 1998</td>\n",
       "      <td>Finished Airing</td>\n",
       "      <td>Madhouse</td>\n",
       "      <td>Manga</td>\n",
       "      <td>24 min per ep</td>\n",
       "      <td>PG-13 - Teens 13 or older</td>\n",
       "      <td>328.0</td>\n",
       "      <td>246</td>\n",
       "      <td>15035</td>\n",
       "      <td>727252</td>\n",
       "      <td>https://cdn.myanimelist.net/images/anime/7/203...</td>\n",
       "    </tr>\n",
       "    <tr>\n",
       "      <th>3</th>\n",
       "      <td>3</td>\n",
       "      <td>7</td>\n",
       "      <td>Witch Hunter Robin</td>\n",
       "      <td>7.25</td>\n",
       "      <td>Action, Drama, Mystery, Supernatural</td>\n",
       "      <td>Robin Sena is a powerful craft user drafted in...</td>\n",
       "      <td>TV</td>\n",
       "      <td>26.0</td>\n",
       "      <td>Jul 3, 2002 to Dec 25, 2002</td>\n",
       "      <td>Finished Airing</td>\n",
       "      <td>Sunrise</td>\n",
       "      <td>Original</td>\n",
       "      <td>25 min per ep</td>\n",
       "      <td>PG-13 - Teens 13 or older</td>\n",
       "      <td>2764.0</td>\n",
       "      <td>1795</td>\n",
       "      <td>613</td>\n",
       "      <td>111931</td>\n",
       "      <td>https://cdn.myanimelist.net/images/anime/10/19...</td>\n",
       "    </tr>\n",
       "    <tr>\n",
       "      <th>4</th>\n",
       "      <td>4</td>\n",
       "      <td>8</td>\n",
       "      <td>Bouken Ou Beet</td>\n",
       "      <td>6.94</td>\n",
       "      <td>Adventure, Fantasy, Supernatural</td>\n",
       "      <td>It is the dark century and the people are suff...</td>\n",
       "      <td>TV</td>\n",
       "      <td>52.0</td>\n",
       "      <td>Sep 30, 2004 to Sep 29, 2005</td>\n",
       "      <td>Finished Airing</td>\n",
       "      <td>Toei Animation</td>\n",
       "      <td>Manga</td>\n",
       "      <td>23 min per ep</td>\n",
       "      <td>PG - Children</td>\n",
       "      <td>4240.0</td>\n",
       "      <td>5126</td>\n",
       "      <td>14</td>\n",
       "      <td>15001</td>\n",
       "      <td>https://cdn.myanimelist.net/images/anime/7/215...</td>\n",
       "    </tr>\n",
       "  </tbody>\n",
       "</table>\n",
       "</div>"
      ],
      "text/plain": [
       "   Unnamed: 0  anime_id                             Name Score  \\\n",
       "0           0         1                     Cowboy Bebop  8.75   \n",
       "1           1         5  Cowboy Bebop: Tengoku no Tobira  8.38   \n",
       "2           2         6                           Trigun  8.22   \n",
       "3           3         7               Witch Hunter Robin  7.25   \n",
       "4           4         8                   Bouken Ou Beet  6.94   \n",
       "\n",
       "                                 Genres  \\\n",
       "0         Action, Award Winning, Sci-Fi   \n",
       "1                        Action, Sci-Fi   \n",
       "2             Action, Adventure, Sci-Fi   \n",
       "3  Action, Drama, Mystery, Supernatural   \n",
       "4      Adventure, Fantasy, Supernatural   \n",
       "\n",
       "                                            Synopsis   Type Episodes  \\\n",
       "0  Crime is timeless. By the year 2071, humanity ...     TV     26.0   \n",
       "1  Another day, another bounty—such is the life o...  Movie      1.0   \n",
       "2  Vash the Stampede is the man with a $$60,000,0...     TV     26.0   \n",
       "3  Robin Sena is a powerful craft user drafted in...     TV     26.0   \n",
       "4  It is the dark century and the people are suff...     TV     52.0   \n",
       "\n",
       "                          Aired           Status         Studios    Source  \\\n",
       "0   Apr 3, 1998 to Apr 24, 1999  Finished Airing         Sunrise  Original   \n",
       "1                   Sep 1, 2001  Finished Airing           Bones  Original   \n",
       "2   Apr 1, 1998 to Sep 30, 1998  Finished Airing        Madhouse     Manga   \n",
       "3   Jul 3, 2002 to Dec 25, 2002  Finished Airing         Sunrise  Original   \n",
       "4  Sep 30, 2004 to Sep 29, 2005  Finished Airing  Toei Animation     Manga   \n",
       "\n",
       "        Duration                          Rating    Rank  Popularity  \\\n",
       "0  24 min per ep  R - 17+ (violence & profanity)    41.0          43   \n",
       "1    1 hr 55 min  R - 17+ (violence & profanity)   189.0         602   \n",
       "2  24 min per ep       PG-13 - Teens 13 or older   328.0         246   \n",
       "3  25 min per ep       PG-13 - Teens 13 or older  2764.0        1795   \n",
       "4  23 min per ep                   PG - Children  4240.0        5126   \n",
       "\n",
       "   Favorites  Members                                          Image URL  \n",
       "0      78525  1771505  https://cdn.myanimelist.net/images/anime/4/196...  \n",
       "1       1448   360978  https://cdn.myanimelist.net/images/anime/1439/...  \n",
       "2      15035   727252  https://cdn.myanimelist.net/images/anime/7/203...  \n",
       "3        613   111931  https://cdn.myanimelist.net/images/anime/10/19...  \n",
       "4         14    15001  https://cdn.myanimelist.net/images/anime/7/215...  "
      ]
     },
     "execution_count": 3,
     "metadata": {},
     "output_type": "execute_result"
    }
   ],
   "source": [
    "df.head()"
   ]
  },
  {
   "cell_type": "code",
   "execution_count": 4,
   "id": "e417d2d1-6833-4632-90ea-c5c3d51c986a",
   "metadata": {},
   "outputs": [
    {
     "data": {
      "text/plain": [
       "Index(['Unnamed: 0', 'anime_id', 'Name', 'Score', 'Genres', 'Synopsis', 'Type',\n",
       "       'Episodes', 'Aired', 'Status', 'Studios', 'Source', 'Duration',\n",
       "       'Rating', 'Rank', 'Popularity', 'Favorites', 'Members', 'Image URL'],\n",
       "      dtype='object')"
      ]
     },
     "execution_count": 4,
     "metadata": {},
     "output_type": "execute_result"
    }
   ],
   "source": [
    "df.columns"
   ]
  },
  {
   "cell_type": "code",
   "execution_count": 5,
   "id": "ac874378-7210-41dd-ad6b-830ab37ce062",
   "metadata": {},
   "outputs": [],
   "source": [
    "def Q1():\n",
    "    print(\"\\n  Have you delved into the world of anime before, perhaps? \\n\")\n",
    "    ans = input(\"a. Yes\\nb. No\\n\\nYour answer (a/b): \").strip().lower()\n",
    "\n",
    "    while ans not in ['a', 'b']:\n",
    "        print(\"\\nPlease enter a valid option (a/b).\")\n",
    "        ans = input(\"Your answer (a/b): \").strip().lower()\n",
    "    if ans == 'a':\n",
    "        return True\n",
    "    else:\n",
    "        return False\n",
    "        "
   ]
  },
  {
   "cell_type": "code",
   "execution_count": 6,
   "id": "360dae4c-a142-46fc-bf37-61fa491a640f",
   "metadata": {},
   "outputs": [],
   "source": [
    "def Q2():\n",
    "    print(\"\\n Do you find solace and excitement in the captivating world of anime? \\n\")\n",
    "    ans = input(\"a. Yes\\nb. No\\n\\nYour answer (a/b): \").strip().lower()\n",
    "\n",
    "    while ans not in ['a', 'b']:\n",
    "        print(\"\\nPlease enter a valid option (a/b).\")\n",
    "        ans = input(\"Your answer (a/b): \").strip().lower()\n",
    "    if ans == 'a':\n",
    "        print(\"\\n Excellent! Together, let's uncover the anime destined to resonate with your soul \\n\")\n",
    "        return True\n",
    "    else:\n",
    "        print(\"Fear not! We shall embark on a quest to discover the ideal anime suited just for you!\")\n",
    "        return False\n",
    "        "
   ]
  },
  {
   "cell_type": "code",
   "execution_count": 7,
   "id": "d1d32e9a-1360-4d90-9427-a19c2121b351",
   "metadata": {},
   "outputs": [],
   "source": [
    "def Q3():\n",
    "   \n",
    "    ans = input(\"\\n What anime holds the cherished place in the depths of your heart ? \\n \")\n",
    "    return ans\n",
    "        "
   ]
  },
  {
   "cell_type": "code",
   "execution_count": 8,
   "id": "90df560a-4d05-4775-af42-ceaf17ebc2df",
   "metadata": {},
   "outputs": [],
   "source": [
    "def Q4():\n",
    "    genres = ['Adventure', 'Action', ' Mystery', ' Sci-Fi', 'Ecchi', 'Fantasy',\n",
    "              ' Comedy', 'Supernatural', 'Girls Love', 'Sports', 'Romance', ' Horror',\n",
    "              ' Fantasy', ' Girls Love', 'Hentai', 'Horror', 'Award Winning', 'Erotica',\n",
    "              ' Adventure', ' Slice of Life', ' Drama', 'Gourmet', ' Romance', 'Sci-Fi',\n",
    "              'Drama', ' Boys Love', ' Gourmet', 'Boys Love', ' Suspense', ' Award Winning',\n",
    "              ' Sports', 'Slice of Life', 'UNKNOWN', ' Supernatural', 'Avant Garde', ' Hentai', \n",
    "              ' Erotica', 'Suspense', ' Avant Garde', ' Ecchi', 'Comedy', 'Mystery']\n",
    "    print(\"\\n What genres stir the flames of passion within your soul? \\n\")\n",
    "    print(\"OPTIONS( 'Any for all') : \\n\\t\")\n",
    "\n",
    "    for i,gen in enumerate(genres,start=1):\n",
    "        print(f\"{i}:{gen}\")\n",
    "\n",
    "    select = input(\"\\n Please enter genres you like (comma-separated):\").strip().split(',')\n",
    "\n",
    "    if 'Any' in select:\n",
    "        return genres\n",
    "        \n",
    "    return select\n"
   ]
  },
  {
   "cell_type": "code",
   "execution_count": 9,
   "id": "31048bd9-d953-4c53-9ec1-f56d5c36d650",
   "metadata": {},
   "outputs": [],
   "source": [
    "def Q5():\n",
    "    rating = ['R - 17+ (violence & profanity)', 'PG-13 - Teens 13 or older',\n",
    "       'PG - Children', 'R+ - Mild Nudity', 'G - All Ages', 'Rx - Hentai','Any']\n",
    "    \n",
    "    print(\"\\n What rating of anime ignites your passion for adventure? \\n\")\n",
    "    print(\"OPTIONS( 'Any for all') : \\n\\t\")\n",
    "\n",
    "    for i,rat in enumerate(rating,start=1):\n",
    "        print(f\"{i}:{rat}\")\n",
    "\n",
    "    select = input(\"\\n Please enter genres you like (comma-separated):\").strip().split(',')\n",
    "    if 'Any' in select:\n",
    "        select = rating\n",
    "    return select\n",
    "    "
   ]
  },
  {
   "cell_type": "code",
   "execution_count": 10,
   "id": "7648a1c9-8962-433d-b764-5c156ed2a8ef",
   "metadata": {},
   "outputs": [],
   "source": [
    "def Q6():\n",
    "    type = ['TV', 'Movie', 'OVA', 'Special', 'ONA', 'Music','Any']\n",
    "    \n",
    "    print(\"\\n  What kind of anime sets your heart ablaze with anticipation? \\n\")\n",
    "    print(\"OPTIONS( 'Any for all') : \\n\\t\")\n",
    "\n",
    "    for i,typ in enumerate(type,start=1):\n",
    "        print(f\"{i}:{typ}\")\n",
    "\n",
    "    select = input(\"\\n Please enter genres you like (comma-separated):\").strip().split(',')\n",
    "    if 'Any' in select:\n",
    "        select = type\n",
    "    return select\n",
    "    "
   ]
  },
  {
   "cell_type": "code",
   "execution_count": 11,
   "id": "efc4727a-f1b0-4905-a69c-96d44f2d75b0",
   "metadata": {},
   "outputs": [],
   "source": [
    "def intro():\n",
    "    intro = ''' # Anime Recommendation System\n",
    "\n",
    "Welcome to our Anime Recommendation System! Are you lost in the vast universe of anime, wondering where to begin or what to watch next? Fear not, as we are here to guide you through the myriad of genres and titles to find the perfect anime that suits your taste.\n",
    "\n",
    "## Introduction\n",
    "\n",
    "Kon'nichiwa, fellow anime enthusiast! 🌟\n",
    "\n",
    "Anime, a form of Japanese animation, has gained immense popularity worldwide for its diverse genres, captivating storytelling, and vibrant characters. With thousands of anime series and movies available, selecting the right one can be a daunting task. Our recommendation system is here to simplify that process for you.\n",
    "\n",
    "## How It Works\n",
    "\n",
    "Our recommendation system works by asking you a series of questions about your preferences. Based on your answers, it will analyze your tastes and suggest a list of anime titles tailored to your liking.\n",
    "\n",
    "## How to Use\n",
    "\n",
    "To get started, simply answer the questions provided. You can select multiple options for some questions. Once you've completed the questionnaire, our system will generate a list of anime recommendations just for you.\n",
    "\n",
    "Get ready to embark on an exciting anime journey! '''\n",
    "\n",
    "    return intro"
   ]
  },
  {
   "cell_type": "code",
   "execution_count": 12,
   "id": "24d55d26-c191-4405-ac43-f40a3289595d",
   "metadata": {},
   "outputs": [
    {
     "data": {
      "text/markdown": [
       " # Anime Recommendation System\n",
       "\n",
       "Welcome to our Anime Recommendation System! Are you lost in the vast universe of anime, wondering where to begin or what to watch next? Fear not, as we are here to guide you through the myriad of genres and titles to find the perfect anime that suits your taste.\n",
       "\n",
       "## Introduction\n",
       "\n",
       "Kon'nichiwa, fellow anime enthusiast! 🌟\n",
       "\n",
       "Anime, a form of Japanese animation, has gained immense popularity worldwide for its diverse genres, captivating storytelling, and vibrant characters. With thousands of anime series and movies available, selecting the right one can be a daunting task. Our recommendation system is here to simplify that process for you.\n",
       "\n",
       "## How It Works\n",
       "\n",
       "Our recommendation system works by asking you a series of questions about your preferences. Based on your answers, it will analyze your tastes and suggest a list of anime titles tailored to your liking.\n",
       "\n",
       "## How to Use\n",
       "\n",
       "To get started, simply answer the questions provided. You can select multiple options for some questions. Once you've completed the questionnaire, our system will generate a list of anime recommendations just for you.\n",
       "\n",
       "Get ready to embark on an exciting anime journey! "
      ],
      "text/plain": [
       "<IPython.core.display.Markdown object>"
      ]
     },
     "execution_count": 12,
     "metadata": {},
     "output_type": "execute_result"
    }
   ],
   "source": [
    "intro = intro()\n",
    "md(intro)"
   ]
  },
  {
   "cell_type": "code",
   "execution_count": 13,
   "id": "1b089e2a-90c6-4da4-bfc7-2b6114d50f4f",
   "metadata": {},
   "outputs": [],
   "source": [
    "def ask():\n",
    "    ans = {}\n",
    "    #Q1 = Q1()\n",
    "    if(Q1()):\n",
    "        #yes\n",
    "       # Q2 = Q2()\n",
    "        if(Q2()):\n",
    "            # yes\n",
    "            ans['fav_anime'] = Q3()\n",
    "            # anime is selected!!!\n",
    "        \n",
    "            #select generes\n",
    "        ans['fav_gen'] = Q4()\n",
    "        ans['fav_rat'] = Q5()\n",
    "        ans['fav_typ'] = Q6()\n",
    "    else:\n",
    "        ans['fav_gen'] = Q4()\n",
    "        ans['fav_rat'] = Q5()\n",
    "        ans['fav_typ'] = Q6()\n",
    "    return ans"
   ]
  },
  {
   "cell_type": "code",
   "execution_count": 35,
   "id": "7b42bfb4-4edb-4727-82a8-f2f8f4bfcbdf",
   "metadata": {},
   "outputs": [
    {
     "name": "stdout",
     "output_type": "stream",
     "text": [
      "\n",
      "  Have you delved into the world of anime before, perhaps? \n",
      "\n"
     ]
    },
    {
     "name": "stdin",
     "output_type": "stream",
     "text": [
      "a. Yes\n",
      "b. No\n",
      "\n",
      "Your answer (a/b):  a\n"
     ]
    },
    {
     "name": "stdout",
     "output_type": "stream",
     "text": [
      "\n",
      " Do you find solace and excitement in the captivating world of anime? \n",
      "\n"
     ]
    },
    {
     "name": "stdin",
     "output_type": "stream",
     "text": [
      "a. Yes\n",
      "b. No\n",
      "\n",
      "Your answer (a/b):  a\n"
     ]
    },
    {
     "name": "stdout",
     "output_type": "stream",
     "text": [
      "\n",
      " Excellent! Together, let's uncover the anime destined to resonate with your soul \n",
      "\n"
     ]
    },
    {
     "name": "stdin",
     "output_type": "stream",
     "text": [
      "\n",
      " What anime holds the cherished place in the depths of your heart ? \n",
      "  Naruto\n"
     ]
    },
    {
     "name": "stdout",
     "output_type": "stream",
     "text": [
      "\n",
      " What genres stir the flames of passion within your soul? \n",
      "\n",
      "OPTIONS( 'Any for all') : \n",
      "\t\n",
      "1:Adventure\n",
      "2:Action\n",
      "3: Mystery\n",
      "4: Sci-Fi\n",
      "5:Ecchi\n",
      "6:Fantasy\n",
      "7: Comedy\n",
      "8:Supernatural\n",
      "9:Girls Love\n",
      "10:Sports\n",
      "11:Romance\n",
      "12: Horror\n",
      "13: Fantasy\n",
      "14: Girls Love\n",
      "15:Hentai\n",
      "16:Horror\n",
      "17:Award Winning\n",
      "18:Erotica\n",
      "19: Adventure\n",
      "20: Slice of Life\n",
      "21: Drama\n",
      "22:Gourmet\n",
      "23: Romance\n",
      "24:Sci-Fi\n",
      "25:Drama\n",
      "26: Boys Love\n",
      "27: Gourmet\n",
      "28:Boys Love\n",
      "29: Suspense\n",
      "30: Award Winning\n",
      "31: Sports\n",
      "32:Slice of Life\n",
      "33:UNKNOWN\n",
      "34: Supernatural\n",
      "35:Avant Garde\n",
      "36: Hentai\n",
      "37: Erotica\n",
      "38:Suspense\n",
      "39: Avant Garde\n",
      "40: Ecchi\n",
      "41:Comedy\n",
      "42:Mystery\n"
     ]
    },
    {
     "name": "stdin",
     "output_type": "stream",
     "text": [
      "\n",
      " Please enter genres you like (comma-separated): Action,Hentai,Drama\n"
     ]
    },
    {
     "name": "stdout",
     "output_type": "stream",
     "text": [
      "\n",
      " What rating of anime ignites your passion for adventure? \n",
      "\n",
      "OPTIONS( 'Any for all') : \n",
      "\t\n",
      "1:R - 17+ (violence & profanity)\n",
      "2:PG-13 - Teens 13 or older\n",
      "3:PG - Children\n",
      "4:R+ - Mild Nudity\n",
      "5:G - All Ages\n",
      "6:Rx - Hentai\n",
      "7:Any\n"
     ]
    },
    {
     "name": "stdin",
     "output_type": "stream",
     "text": [
      "\n",
      " Please enter genres you like (comma-separated): Any\n"
     ]
    },
    {
     "name": "stdout",
     "output_type": "stream",
     "text": [
      "\n",
      "  What kind of anime sets your heart ablaze with anticipation? \n",
      "\n",
      "OPTIONS( 'Any for all') : \n",
      "\t\n",
      "1:TV\n",
      "2:Movie\n",
      "3:OVA\n",
      "4:Special\n",
      "5:ONA\n",
      "6:Music\n",
      "7:Any\n"
     ]
    },
    {
     "name": "stdin",
     "output_type": "stream",
     "text": [
      "\n",
      " Please enter genres you like (comma-separated): Any\n"
     ]
    }
   ],
   "source": [
    "ans = ask()"
   ]
  },
  {
   "cell_type": "code",
   "execution_count": 37,
   "id": "c67e69d7-91d6-461d-8e8b-44df329837a3",
   "metadata": {},
   "outputs": [
    {
     "data": {
      "text/plain": [
       "{'fav_anime': 'Naruto',\n",
       " 'fav_gen': ['Action', 'Hentai', 'Drama'],\n",
       " 'fav_rat': ['R - 17+ (violence & profanity)',\n",
       "  'PG-13 - Teens 13 or older',\n",
       "  'PG - Children',\n",
       "  'R+ - Mild Nudity',\n",
       "  'G - All Ages',\n",
       "  'Rx - Hentai',\n",
       "  'Any'],\n",
       " 'fav_typ': ['TV', 'Movie', 'OVA', 'Special', 'ONA', 'Music', 'Any']}"
      ]
     },
     "execution_count": 37,
     "metadata": {},
     "output_type": "execute_result"
    }
   ],
   "source": [
    "ans"
   ]
  },
  {
   "cell_type": "code",
   "execution_count": 38,
   "id": "7e48c3ef-1787-48df-b446-31f979476883",
   "metadata": {},
   "outputs": [],
   "source": [
    "if 'fav_anime' in ans:\n",
    "    fav_anime = ans['fav_anime']\n",
    "    fav_a_gen = df[df['Name']==fav_anime]['Genres'].iloc[0].split(',')\n",
    "    fav_a_rat = df[df['Name']==fav_anime]['Rating'].iloc[0].split(',')\n",
    "    fav_a_typ = df[df['Name']==fav_anime]['Type'].iloc[0].split(',')\n",
    "    \n",
    "else:\n",
    "    fav_anime = 1\n",
    "if 'fav_anime' in ans:\n",
    "    fav_gen = ans['fav_gen']+fav_a_gen\n",
    "    fav_rat = ans['fav_rat']+fav_a_rat\n",
    "    fav_typ = ans['fav_typ']+fav_a_typ\n",
    "else:\n",
    "    fav_gen = ans['fav_gen']\n",
    "    fav_rat = ans['fav_rat']\n",
    "    fav_typ = ans['fav_typ']"
   ]
  },
  {
   "cell_type": "code",
   "execution_count": 39,
   "id": "aa20c312-6ad7-4990-91a6-43dfc0e9fc01",
   "metadata": {
    "scrolled": true
   },
   "outputs": [
    {
     "data": {
      "text/plain": [
       "['Action', 'Hentai', 'Drama', 'Action', ' Adventure', ' Fantasy']"
      ]
     },
     "execution_count": 39,
     "metadata": {},
     "output_type": "execute_result"
    }
   ],
   "source": [
    "fav_gen"
   ]
  },
  {
   "cell_type": "code",
   "execution_count": 40,
   "id": "3a4fca1d-5e66-4894-b68c-e1013f74ac3d",
   "metadata": {},
   "outputs": [
    {
     "data": {
      "text/plain": [
       "'Naruto'"
      ]
     },
     "execution_count": 40,
     "metadata": {},
     "output_type": "execute_result"
    }
   ],
   "source": [
    "fav_anime"
   ]
  },
  {
   "cell_type": "markdown",
   "id": "ffdf68cb-cdc0-4286-b097-8a15c5c59977",
   "metadata": {},
   "source": [
    "# _______________________________________________________________________________________"
   ]
  },
  {
   "cell_type": "code",
   "execution_count": 19,
   "id": "a3d59f16-0bac-410b-ad54-66c0715dbb9a",
   "metadata": {},
   "outputs": [],
   "source": [
    "x= 'Naruto'"
   ]
  },
  {
   "cell_type": "code",
   "execution_count": 20,
   "id": "129bf4b2-b389-4145-a29e-a72e7ac2c152",
   "metadata": {},
   "outputs": [
    {
     "data": {
      "text/plain": [
       "Unnamed: 0                                                   10\n",
       "anime_id                                                     20\n",
       "Name                                                     Naruto\n",
       "Score                                                      7.99\n",
       "Genres                               Action, Adventure, Fantasy\n",
       "Synopsis      Moments prior to Naruto Uzumaki's birth, a hug...\n",
       "Type                                                         TV\n",
       "Episodes                                                  220.0\n",
       "Aired                                Oct 3, 2002 to Feb 8, 2007\n",
       "Status                                          Finished Airing\n",
       "Studios                                                 Pierrot\n",
       "Source                                                    Manga\n",
       "Duration                                          23 min per ep\n",
       "Rating                                PG-13 - Teens 13 or older\n",
       "Rank                                                      599.0\n",
       "Popularity                                                    8\n",
       "Favorites                                                 76343\n",
       "Members                                                 2717330\n",
       "Image URL     https://cdn.myanimelist.net/images/anime/13/17...\n",
       "Name: 10, dtype: object"
      ]
     },
     "execution_count": 20,
     "metadata": {},
     "output_type": "execute_result"
    }
   ],
   "source": [
    "df.iloc[10]"
   ]
  },
  {
   "cell_type": "code",
   "execution_count": 21,
   "id": "6ac79362-3edd-4e71-9622-4c4aa2a87057",
   "metadata": {},
   "outputs": [],
   "source": [
    "z= df[df['Name']==x]['Genres'].iloc[0].split(',')\n"
   ]
  },
  {
   "cell_type": "code",
   "execution_count": 22,
   "id": "15b64e0d-d544-413e-a92d-de839923fbad",
   "metadata": {},
   "outputs": [],
   "source": [
    "ok = [\"Comedy\",\" Adventure\", \"Slice of Life\", \"Sports\"]"
   ]
  },
  {
   "cell_type": "code",
   "execution_count": 23,
   "id": "e51d45f0-ed57-4add-b8df-42e8930b8e2c",
   "metadata": {},
   "outputs": [
    {
     "data": {
      "text/plain": [
       "['Comedy', ' Adventure', 'Slice of Life', 'Sports']"
      ]
     },
     "execution_count": 23,
     "metadata": {},
     "output_type": "execute_result"
    }
   ],
   "source": [
    "ok\n"
   ]
  },
  {
   "cell_type": "code",
   "execution_count": 24,
   "id": "454df8aa-5b60-4e62-97d6-9b618233513f",
   "metadata": {},
   "outputs": [
    {
     "data": {
      "text/plain": [
       "['Action', ' Adventure', ' Fantasy']"
      ]
     },
     "execution_count": 24,
     "metadata": {},
     "output_type": "execute_result"
    }
   ],
   "source": [
    "z"
   ]
  },
  {
   "cell_type": "code",
   "execution_count": 25,
   "id": "2ea52b0b-a4c8-46c9-b9aa-cc86fc297c58",
   "metadata": {},
   "outputs": [],
   "source": [
    "z= df[df['Name']==x]['Genres'].iloc[0].strip().split(',')\n",
    "ok = [\"Comedy\",\" Adventure\", \"Slice of Life\", \"Sports\"]\n",
    "ok=list(set(ok+z))"
   ]
  },
  {
   "cell_type": "code",
   "execution_count": 26,
   "id": "35510760-2d37-4490-9b35-48e7b425b484",
   "metadata": {},
   "outputs": [
    {
     "data": {
      "text/plain": [
       "['Action', ' Adventure', 'Sports', ' Fantasy', 'Comedy', 'Slice of Life']"
      ]
     },
     "execution_count": 26,
     "metadata": {},
     "output_type": "execute_result"
    }
   ],
   "source": [
    "ok"
   ]
  },
  {
   "cell_type": "code",
   "execution_count": 27,
   "id": "faacea06-277a-45b2-b965-b2425496593c",
   "metadata": {},
   "outputs": [],
   "source": [
    "new = df[df['Genres'].isin(ok)]"
   ]
  },
  {
   "cell_type": "code",
   "execution_count": 28,
   "id": "d4d6b5d3-4f0c-4238-8347-c74b0092635f",
   "metadata": {},
   "outputs": [
    {
     "data": {
      "text/html": [
       "<div>\n",
       "<style scoped>\n",
       "    .dataframe tbody tr th:only-of-type {\n",
       "        vertical-align: middle;\n",
       "    }\n",
       "\n",
       "    .dataframe tbody tr th {\n",
       "        vertical-align: top;\n",
       "    }\n",
       "\n",
       "    .dataframe thead th {\n",
       "        text-align: right;\n",
       "    }\n",
       "</style>\n",
       "<table border=\"1\" class=\"dataframe\">\n",
       "  <thead>\n",
       "    <tr style=\"text-align: right;\">\n",
       "      <th></th>\n",
       "      <th>Unnamed: 0</th>\n",
       "      <th>anime_id</th>\n",
       "      <th>Name</th>\n",
       "      <th>Score</th>\n",
       "      <th>Genres</th>\n",
       "      <th>Synopsis</th>\n",
       "      <th>Type</th>\n",
       "      <th>Episodes</th>\n",
       "      <th>Aired</th>\n",
       "      <th>Status</th>\n",
       "      <th>Studios</th>\n",
       "      <th>Source</th>\n",
       "      <th>Duration</th>\n",
       "      <th>Rating</th>\n",
       "      <th>Rank</th>\n",
       "      <th>Popularity</th>\n",
       "      <th>Favorites</th>\n",
       "      <th>Members</th>\n",
       "      <th>Image URL</th>\n",
       "    </tr>\n",
       "  </thead>\n",
       "  <tbody>\n",
       "    <tr>\n",
       "      <th>5</th>\n",
       "      <td>5</td>\n",
       "      <td>15</td>\n",
       "      <td>Eyeshield 21</td>\n",
       "      <td>7.92</td>\n",
       "      <td>Sports</td>\n",
       "      <td>Shy, reserved, and small-statured, Deimon High...</td>\n",
       "      <td>TV</td>\n",
       "      <td>145.0</td>\n",
       "      <td>Apr 6, 2005 to Mar 19, 2008</td>\n",
       "      <td>Finished Airing</td>\n",
       "      <td>Gallop</td>\n",
       "      <td>Manga</td>\n",
       "      <td>23 min per ep</td>\n",
       "      <td>PG-13 - Teens 13 or older</td>\n",
       "      <td>688.0</td>\n",
       "      <td>1252</td>\n",
       "      <td>1997</td>\n",
       "      <td>177688</td>\n",
       "      <td>https://cdn.myanimelist.net/images/anime/1079/...</td>\n",
       "    </tr>\n",
       "    <tr>\n",
       "      <th>12</th>\n",
       "      <td>12</td>\n",
       "      <td>22</td>\n",
       "      <td>Tennis no Ouji-sama</td>\n",
       "      <td>7.86</td>\n",
       "      <td>Sports</td>\n",
       "      <td>At the request of his father, tennis prodigy R...</td>\n",
       "      <td>TV</td>\n",
       "      <td>178.0</td>\n",
       "      <td>Oct 10, 2001 to Mar 23, 2005</td>\n",
       "      <td>Finished Airing</td>\n",
       "      <td>Trans Arts</td>\n",
       "      <td>Manga</td>\n",
       "      <td>22 min per ep</td>\n",
       "      <td>PG-13 - Teens 13 or older</td>\n",
       "      <td>805.0</td>\n",
       "      <td>1246</td>\n",
       "      <td>3004</td>\n",
       "      <td>178273</td>\n",
       "      <td>https://cdn.myanimelist.net/images/anime/6/216...</td>\n",
       "    </tr>\n",
       "    <tr>\n",
       "      <th>53</th>\n",
       "      <td>53</td>\n",
       "      <td>73</td>\n",
       "      <td>Full Metal Panic! The Second Raid</td>\n",
       "      <td>7.93</td>\n",
       "      <td>Action</td>\n",
       "      <td>After overcoming various tumultuous events, me...</td>\n",
       "      <td>TV</td>\n",
       "      <td>13.0</td>\n",
       "      <td>Jul 14, 2005 to Oct 20, 2005</td>\n",
       "      <td>Finished Airing</td>\n",
       "      <td>Kyoto Animation</td>\n",
       "      <td>Light novel</td>\n",
       "      <td>24 min per ep</td>\n",
       "      <td>R - 17+ (violence &amp; profanity)</td>\n",
       "      <td>682.0</td>\n",
       "      <td>878</td>\n",
       "      <td>1268</td>\n",
       "      <td>255279</td>\n",
       "      <td>https://cdn.myanimelist.net/images/anime/11/75...</td>\n",
       "    </tr>\n",
       "    <tr>\n",
       "      <th>93</th>\n",
       "      <td>93</td>\n",
       "      <td>114</td>\n",
       "      <td>Sakigake!! Cromartie Koukou</td>\n",
       "      <td>7.9</td>\n",
       "      <td>Comedy</td>\n",
       "      <td>Takashi Kamiyama is your typical mild-mannered...</td>\n",
       "      <td>TV</td>\n",
       "      <td>26.0</td>\n",
       "      <td>Oct 3, 2003 to Mar 26, 2004</td>\n",
       "      <td>Finished Airing</td>\n",
       "      <td>Production I.G</td>\n",
       "      <td>Manga</td>\n",
       "      <td>12 min per ep</td>\n",
       "      <td>PG-13 - Teens 13 or older</td>\n",
       "      <td>722.0</td>\n",
       "      <td>1549</td>\n",
       "      <td>1600</td>\n",
       "      <td>134468</td>\n",
       "      <td>https://cdn.myanimelist.net/images/anime/1782/...</td>\n",
       "    </tr>\n",
       "    <tr>\n",
       "      <th>148</th>\n",
       "      <td>148</td>\n",
       "      <td>170</td>\n",
       "      <td>Slam Dunk</td>\n",
       "      <td>8.54</td>\n",
       "      <td>Sports</td>\n",
       "      <td>Hanamichi Sakuragi, infamous for his temper, m...</td>\n",
       "      <td>TV</td>\n",
       "      <td>101.0</td>\n",
       "      <td>Oct 16, 1993 to Mar 23, 1996</td>\n",
       "      <td>Finished Airing</td>\n",
       "      <td>Toei Animation</td>\n",
       "      <td>Manga</td>\n",
       "      <td>23 min per ep</td>\n",
       "      <td>PG-13 - Teens 13 or older</td>\n",
       "      <td>108.0</td>\n",
       "      <td>797</td>\n",
       "      <td>6879</td>\n",
       "      <td>283226</td>\n",
       "      <td>https://cdn.myanimelist.net/images/anime/12/86...</td>\n",
       "    </tr>\n",
       "    <tr>\n",
       "      <th>...</th>\n",
       "      <td>...</td>\n",
       "      <td>...</td>\n",
       "      <td>...</td>\n",
       "      <td>...</td>\n",
       "      <td>...</td>\n",
       "      <td>...</td>\n",
       "      <td>...</td>\n",
       "      <td>...</td>\n",
       "      <td>...</td>\n",
       "      <td>...</td>\n",
       "      <td>...</td>\n",
       "      <td>...</td>\n",
       "      <td>...</td>\n",
       "      <td>...</td>\n",
       "      <td>...</td>\n",
       "      <td>...</td>\n",
       "      <td>...</td>\n",
       "      <td>...</td>\n",
       "      <td>...</td>\n",
       "    </tr>\n",
       "    <tr>\n",
       "      <th>24794</th>\n",
       "      <td>24794</td>\n",
       "      <td>55595</td>\n",
       "      <td>Yama no Kamisama</td>\n",
       "      <td>UNKNOWN</td>\n",
       "      <td>Slice of Life</td>\n",
       "      <td>A short film by Touko Yatabe.</td>\n",
       "      <td>Movie</td>\n",
       "      <td>1.0</td>\n",
       "      <td>2012</td>\n",
       "      <td>Finished Airing</td>\n",
       "      <td>UNKNOWN</td>\n",
       "      <td>Original</td>\n",
       "      <td>4 min</td>\n",
       "      <td>G - All Ages</td>\n",
       "      <td>13978.0</td>\n",
       "      <td>24648</td>\n",
       "      <td>0</td>\n",
       "      <td>30</td>\n",
       "      <td>https://cdn.myanimelist.net/images/anime/1790/...</td>\n",
       "    </tr>\n",
       "    <tr>\n",
       "      <th>24799</th>\n",
       "      <td>24799</td>\n",
       "      <td>55602</td>\n",
       "      <td>Ohiru no Shocker-san: THE Movie</td>\n",
       "      <td>UNKNOWN</td>\n",
       "      <td>Comedy</td>\n",
       "      <td>No description available for this anime.</td>\n",
       "      <td>Movie</td>\n",
       "      <td>1.0</td>\n",
       "      <td>Dec 23, 2022</td>\n",
       "      <td>Finished Airing</td>\n",
       "      <td>UNKNOWN</td>\n",
       "      <td>Other</td>\n",
       "      <td>2 hr</td>\n",
       "      <td>PG-13 - Teens 13 or older</td>\n",
       "      <td>0.0</td>\n",
       "      <td>0</td>\n",
       "      <td>0</td>\n",
       "      <td>0</td>\n",
       "      <td>https://cdn.myanimelist.net/images/anime/1125/...</td>\n",
       "    </tr>\n",
       "    <tr>\n",
       "      <th>24825</th>\n",
       "      <td>24825</td>\n",
       "      <td>55636</td>\n",
       "      <td>Snack Basue</td>\n",
       "      <td>UNKNOWN</td>\n",
       "      <td>Comedy</td>\n",
       "      <td>No description available for this anime.</td>\n",
       "      <td>UNKNOWN</td>\n",
       "      <td>UNKNOWN</td>\n",
       "      <td>Not available</td>\n",
       "      <td>Not yet aired</td>\n",
       "      <td>UNKNOWN</td>\n",
       "      <td>Manga</td>\n",
       "      <td>Unknown</td>\n",
       "      <td>UNKNOWN</td>\n",
       "      <td>UNKNOWN</td>\n",
       "      <td>18100</td>\n",
       "      <td>0</td>\n",
       "      <td>244</td>\n",
       "      <td>https://cdn.myanimelist.net/images/anime/1739/...</td>\n",
       "    </tr>\n",
       "    <tr>\n",
       "      <th>24874</th>\n",
       "      <td>24874</td>\n",
       "      <td>55697</td>\n",
       "      <td>demon slayer</td>\n",
       "      <td>UNKNOWN</td>\n",
       "      <td>Comedy</td>\n",
       "      <td>No description available for this anime.</td>\n",
       "      <td>Special</td>\n",
       "      <td>4.0</td>\n",
       "      <td>Not available</td>\n",
       "      <td>Finished Airing</td>\n",
       "      <td>UNKNOWN</td>\n",
       "      <td>Unknown</td>\n",
       "      <td>20 min per ep</td>\n",
       "      <td>UNKNOWN</td>\n",
       "      <td>0.0</td>\n",
       "      <td>0</td>\n",
       "      <td>0</td>\n",
       "      <td>0</td>\n",
       "      <td>https://cdn.myanimelist.net/img/sp/icon/apple-...</td>\n",
       "    </tr>\n",
       "    <tr>\n",
       "      <th>24896</th>\n",
       "      <td>24896</td>\n",
       "      <td>55727</td>\n",
       "      <td>Miru</td>\n",
       "      <td>UNKNOWN</td>\n",
       "      <td>Action</td>\n",
       "      <td>No description available for this anime.</td>\n",
       "      <td>UNKNOWN</td>\n",
       "      <td>UNKNOWN</td>\n",
       "      <td>2024 to ?</td>\n",
       "      <td>Not yet aired</td>\n",
       "      <td>UNKNOWN</td>\n",
       "      <td>Original</td>\n",
       "      <td>Unknown</td>\n",
       "      <td>UNKNOWN</td>\n",
       "      <td>0.0</td>\n",
       "      <td>0</td>\n",
       "      <td>0</td>\n",
       "      <td>0</td>\n",
       "      <td>https://cdn.myanimelist.net/images/anime/1135/...</td>\n",
       "    </tr>\n",
       "  </tbody>\n",
       "</table>\n",
       "<p>3763 rows × 19 columns</p>\n",
       "</div>"
      ],
      "text/plain": [
       "       Unnamed: 0  anime_id                               Name    Score  \\\n",
       "5               5        15                       Eyeshield 21     7.92   \n",
       "12             12        22                Tennis no Ouji-sama     7.86   \n",
       "53             53        73  Full Metal Panic! The Second Raid     7.93   \n",
       "93             93       114        Sakigake!! Cromartie Koukou      7.9   \n",
       "148           148       170                          Slam Dunk     8.54   \n",
       "...           ...       ...                                ...      ...   \n",
       "24794       24794     55595                   Yama no Kamisama  UNKNOWN   \n",
       "24799       24799     55602    Ohiru no Shocker-san: THE Movie  UNKNOWN   \n",
       "24825       24825     55636                        Snack Basue  UNKNOWN   \n",
       "24874       24874     55697                       demon slayer  UNKNOWN   \n",
       "24896       24896     55727                               Miru  UNKNOWN   \n",
       "\n",
       "              Genres                                           Synopsis  \\\n",
       "5             Sports  Shy, reserved, and small-statured, Deimon High...   \n",
       "12            Sports  At the request of his father, tennis prodigy R...   \n",
       "53            Action  After overcoming various tumultuous events, me...   \n",
       "93            Comedy  Takashi Kamiyama is your typical mild-mannered...   \n",
       "148           Sports  Hanamichi Sakuragi, infamous for his temper, m...   \n",
       "...              ...                                                ...   \n",
       "24794  Slice of Life                      A short film by Touko Yatabe.   \n",
       "24799         Comedy           No description available for this anime.   \n",
       "24825         Comedy           No description available for this anime.   \n",
       "24874         Comedy           No description available for this anime.   \n",
       "24896         Action           No description available for this anime.   \n",
       "\n",
       "          Type Episodes                         Aired           Status  \\\n",
       "5           TV    145.0   Apr 6, 2005 to Mar 19, 2008  Finished Airing   \n",
       "12          TV    178.0  Oct 10, 2001 to Mar 23, 2005  Finished Airing   \n",
       "53          TV     13.0  Jul 14, 2005 to Oct 20, 2005  Finished Airing   \n",
       "93          TV     26.0   Oct 3, 2003 to Mar 26, 2004  Finished Airing   \n",
       "148         TV    101.0  Oct 16, 1993 to Mar 23, 1996  Finished Airing   \n",
       "...        ...      ...                           ...              ...   \n",
       "24794    Movie      1.0                          2012  Finished Airing   \n",
       "24799    Movie      1.0                  Dec 23, 2022  Finished Airing   \n",
       "24825  UNKNOWN  UNKNOWN                 Not available    Not yet aired   \n",
       "24874  Special      4.0                 Not available  Finished Airing   \n",
       "24896  UNKNOWN  UNKNOWN                     2024 to ?    Not yet aired   \n",
       "\n",
       "               Studios       Source       Duration  \\\n",
       "5               Gallop        Manga  23 min per ep   \n",
       "12          Trans Arts        Manga  22 min per ep   \n",
       "53     Kyoto Animation  Light novel  24 min per ep   \n",
       "93      Production I.G        Manga  12 min per ep   \n",
       "148     Toei Animation        Manga  23 min per ep   \n",
       "...                ...          ...            ...   \n",
       "24794          UNKNOWN     Original          4 min   \n",
       "24799          UNKNOWN        Other           2 hr   \n",
       "24825          UNKNOWN        Manga        Unknown   \n",
       "24874          UNKNOWN      Unknown  20 min per ep   \n",
       "24896          UNKNOWN     Original        Unknown   \n",
       "\n",
       "                               Rating     Rank  Popularity  Favorites  \\\n",
       "5           PG-13 - Teens 13 or older    688.0        1252       1997   \n",
       "12          PG-13 - Teens 13 or older    805.0        1246       3004   \n",
       "53     R - 17+ (violence & profanity)    682.0         878       1268   \n",
       "93          PG-13 - Teens 13 or older    722.0        1549       1600   \n",
       "148         PG-13 - Teens 13 or older    108.0         797       6879   \n",
       "...                               ...      ...         ...        ...   \n",
       "24794                    G - All Ages  13978.0       24648          0   \n",
       "24799       PG-13 - Teens 13 or older      0.0           0          0   \n",
       "24825                         UNKNOWN  UNKNOWN       18100          0   \n",
       "24874                         UNKNOWN      0.0           0          0   \n",
       "24896                         UNKNOWN      0.0           0          0   \n",
       "\n",
       "       Members                                          Image URL  \n",
       "5       177688  https://cdn.myanimelist.net/images/anime/1079/...  \n",
       "12      178273  https://cdn.myanimelist.net/images/anime/6/216...  \n",
       "53      255279  https://cdn.myanimelist.net/images/anime/11/75...  \n",
       "93      134468  https://cdn.myanimelist.net/images/anime/1782/...  \n",
       "148     283226  https://cdn.myanimelist.net/images/anime/12/86...  \n",
       "...        ...                                                ...  \n",
       "24794       30  https://cdn.myanimelist.net/images/anime/1790/...  \n",
       "24799        0  https://cdn.myanimelist.net/images/anime/1125/...  \n",
       "24825      244  https://cdn.myanimelist.net/images/anime/1739/...  \n",
       "24874        0  https://cdn.myanimelist.net/img/sp/icon/apple-...  \n",
       "24896        0  https://cdn.myanimelist.net/images/anime/1135/...  \n",
       "\n",
       "[3763 rows x 19 columns]"
      ]
     },
     "execution_count": 28,
     "metadata": {},
     "output_type": "execute_result"
    }
   ],
   "source": [
    "new"
   ]
  },
  {
   "cell_type": "code",
   "execution_count": 29,
   "id": "49059939-98a1-4501-9673-6202ce3e73b4",
   "metadata": {},
   "outputs": [
    {
     "data": {
      "text/plain": [
       "Unnamed: 0    3763\n",
       "anime_id      3763\n",
       "Name          3763\n",
       "Score          423\n",
       "Genres           4\n",
       "Synopsis      3113\n",
       "Type             7\n",
       "Episodes       143\n",
       "Aired         3174\n",
       "Status           3\n",
       "Studios        454\n",
       "Source          17\n",
       "Duration       235\n",
       "Rating           7\n",
       "Rank          3325\n",
       "Popularity    3538\n",
       "Favorites      403\n",
       "Members       2345\n",
       "Image URL     3739\n",
       "dtype: int64"
      ]
     },
     "execution_count": 29,
     "metadata": {},
     "output_type": "execute_result"
    }
   ],
   "source": [
    "new.nunique()"
   ]
  },
  {
   "cell_type": "code",
   "execution_count": 17,
   "id": "5f56b654-ff77-4d53-a063-040d49bff91b",
   "metadata": {},
   "outputs": [
    {
     "data": {
      "text/plain": [
       "Unnamed: 0    24905\n",
       "anime_id      24905\n",
       "Name          24901\n",
       "Score           567\n",
       "Genres         1006\n",
       "Synopsis      20113\n",
       "Type              7\n",
       "Episodes        252\n",
       "Aired         15213\n",
       "Status            3\n",
       "Studios        1547\n",
       "Source           17\n",
       "Duration        331\n",
       "Rating            7\n",
       "Rank          15198\n",
       "Popularity    18363\n",
       "Favorites      1814\n",
       "Members       10996\n",
       "Image URL     24720\n",
       "dtype: int64"
      ]
     },
     "execution_count": 17,
     "metadata": {},
     "output_type": "execute_result"
    }
   ],
   "source": [
    "df.nunique()"
   ]
  },
  {
   "cell_type": "markdown",
   "id": "08a72ecc-2d08-4a2e-92af-a3aa10ab26ab",
   "metadata": {},
   "source": [
    "# __________________________________________________________________________"
   ]
  },
  {
   "cell_type": "code",
   "execution_count": 45,
   "id": "ac02e2cb-e09b-41b1-bee3-4b867aa4758e",
   "metadata": {},
   "outputs": [
    {
     "data": {
      "text/html": [
       "<div>\n",
       "<style scoped>\n",
       "    .dataframe tbody tr th:only-of-type {\n",
       "        vertical-align: middle;\n",
       "    }\n",
       "\n",
       "    .dataframe tbody tr th {\n",
       "        vertical-align: top;\n",
       "    }\n",
       "\n",
       "    .dataframe thead th {\n",
       "        text-align: right;\n",
       "    }\n",
       "</style>\n",
       "<table border=\"1\" class=\"dataframe\">\n",
       "  <thead>\n",
       "    <tr style=\"text-align: right;\">\n",
       "      <th></th>\n",
       "      <th>Unnamed: 0</th>\n",
       "      <th>anime_id</th>\n",
       "      <th>Name</th>\n",
       "      <th>Score</th>\n",
       "      <th>Genres</th>\n",
       "      <th>Synopsis</th>\n",
       "      <th>Type</th>\n",
       "      <th>Episodes</th>\n",
       "      <th>Aired</th>\n",
       "      <th>Status</th>\n",
       "      <th>Studios</th>\n",
       "      <th>Source</th>\n",
       "      <th>Duration</th>\n",
       "      <th>Rating</th>\n",
       "      <th>Rank</th>\n",
       "      <th>Popularity</th>\n",
       "      <th>Favorites</th>\n",
       "      <th>Members</th>\n",
       "      <th>Image URL</th>\n",
       "    </tr>\n",
       "  </thead>\n",
       "  <tbody>\n",
       "    <tr>\n",
       "      <th>0</th>\n",
       "      <td>0</td>\n",
       "      <td>1</td>\n",
       "      <td>Cowboy Bebop</td>\n",
       "      <td>8.75</td>\n",
       "      <td>Action, Award Winning, Sci-Fi</td>\n",
       "      <td>Crime is timeless. By the year 2071, humanity ...</td>\n",
       "      <td>TV</td>\n",
       "      <td>26.0</td>\n",
       "      <td>Apr 3, 1998 to Apr 24, 1999</td>\n",
       "      <td>Finished Airing</td>\n",
       "      <td>Sunrise</td>\n",
       "      <td>Original</td>\n",
       "      <td>24 min per ep</td>\n",
       "      <td>R - 17+ (violence &amp; profanity)</td>\n",
       "      <td>41.0</td>\n",
       "      <td>43</td>\n",
       "      <td>78525</td>\n",
       "      <td>1771505</td>\n",
       "      <td>https://cdn.myanimelist.net/images/anime/4/196...</td>\n",
       "    </tr>\n",
       "  </tbody>\n",
       "</table>\n",
       "</div>"
      ],
      "text/plain": [
       "   Unnamed: 0  anime_id          Name Score                         Genres  \\\n",
       "0           0         1  Cowboy Bebop  8.75  Action, Award Winning, Sci-Fi   \n",
       "\n",
       "                                            Synopsis Type Episodes  \\\n",
       "0  Crime is timeless. By the year 2071, humanity ...   TV     26.0   \n",
       "\n",
       "                         Aired           Status  Studios    Source  \\\n",
       "0  Apr 3, 1998 to Apr 24, 1999  Finished Airing  Sunrise  Original   \n",
       "\n",
       "        Duration                          Rating  Rank  Popularity  Favorites  \\\n",
       "0  24 min per ep  R - 17+ (violence & profanity)  41.0          43      78525   \n",
       "\n",
       "   Members                                          Image URL  \n",
       "0  1771505  https://cdn.myanimelist.net/images/anime/4/196...  "
      ]
     },
     "execution_count": 45,
     "metadata": {},
     "output_type": "execute_result"
    }
   ],
   "source": [
    "df.head(1)"
   ]
  },
  {
   "cell_type": "code",
   "execution_count": 41,
   "id": "8429666d-9517-49a3-91ea-7bb9f14d0bcd",
   "metadata": {},
   "outputs": [
    {
     "data": {
      "text/plain": [
       "['Action', 'Hentai', 'Drama', 'Action', ' Adventure', ' Fantasy']"
      ]
     },
     "execution_count": 41,
     "metadata": {},
     "output_type": "execute_result"
    }
   ],
   "source": [
    "fav_gen"
   ]
  },
  {
   "cell_type": "code",
   "execution_count": 42,
   "id": "9b597f7c-611a-4841-a9ef-ba872205742c",
   "metadata": {},
   "outputs": [
    {
     "data": {
      "text/plain": [
       "'Naruto'"
      ]
     },
     "execution_count": 42,
     "metadata": {},
     "output_type": "execute_result"
    }
   ],
   "source": [
    "fav_anime"
   ]
  },
  {
   "cell_type": "code",
   "execution_count": 77,
   "id": "885ce184-8cd9-4d56-8128-9d1ac65a3674",
   "metadata": {},
   "outputs": [],
   "source": [
    "final_gen= df[df['Name']==fav_anime]['Genres'].iloc[0].strip().split(',')\n",
    "final_gen=list(set(final_gen+fav_gen))"
   ]
  },
  {
   "cell_type": "code",
   "execution_count": 78,
   "id": "af44a5fd-bc4e-4bca-975b-ecb35e97c6b7",
   "metadata": {},
   "outputs": [
    {
     "data": {
      "text/plain": [
       "[' Adventure', 'Action', ' Fantasy', 'Drama', 'Hentai']"
      ]
     },
     "execution_count": 78,
     "metadata": {},
     "output_type": "execute_result"
    }
   ],
   "source": [
    "final_gen"
   ]
  },
  {
   "cell_type": "code",
   "execution_count": 79,
   "id": "2ca16c70-1309-4cc8-9a76-037a2b9e27e3",
   "metadata": {},
   "outputs": [],
   "source": [
    "def contain_fav_gen(genres):\n",
    "    return any(genre in genres for genre in final_gen)\n",
    "\n",
    "gen_df = df[df['Genres'].apply(contain_fav_gen)]"
   ]
  },
  {
   "cell_type": "code",
   "execution_count": 80,
   "id": "baafb488-1bf6-4e83-aa27-d15a6024d684",
   "metadata": {},
   "outputs": [
    {
     "name": "stdout",
     "output_type": "stream",
     "text": [
      "24905 \n",
      " 9980\n"
     ]
    }
   ],
   "source": [
    "print(df['anime_id'].count(),\"\\n\",gen_df['anime_id'].count())"
   ]
  },
  {
   "cell_type": "markdown",
   "id": "03b2b6fb-bb80-4bfa-8481-bea4fe74f652",
   "metadata": {},
   "source": [
    "# ------------------------------------------------------------------"
   ]
  },
  {
   "cell_type": "code",
   "execution_count": 65,
   "id": "b1c1eb80-e5e4-48f6-a9d3-4be96a650deb",
   "metadata": {},
   "outputs": [
    {
     "data": {
      "text/html": [
       "<div>\n",
       "<style scoped>\n",
       "    .dataframe tbody tr th:only-of-type {\n",
       "        vertical-align: middle;\n",
       "    }\n",
       "\n",
       "    .dataframe tbody tr th {\n",
       "        vertical-align: top;\n",
       "    }\n",
       "\n",
       "    .dataframe thead th {\n",
       "        text-align: right;\n",
       "    }\n",
       "</style>\n",
       "<table border=\"1\" class=\"dataframe\">\n",
       "  <thead>\n",
       "    <tr style=\"text-align: right;\">\n",
       "      <th></th>\n",
       "      <th>Unnamed: 0</th>\n",
       "      <th>anime_id</th>\n",
       "      <th>Name</th>\n",
       "      <th>Score</th>\n",
       "      <th>Genres</th>\n",
       "      <th>Synopsis</th>\n",
       "      <th>Type</th>\n",
       "      <th>Episodes</th>\n",
       "      <th>Aired</th>\n",
       "      <th>Status</th>\n",
       "      <th>Studios</th>\n",
       "      <th>Source</th>\n",
       "      <th>Duration</th>\n",
       "      <th>Rating</th>\n",
       "      <th>Rank</th>\n",
       "      <th>Popularity</th>\n",
       "      <th>Favorites</th>\n",
       "      <th>Members</th>\n",
       "      <th>Image URL</th>\n",
       "    </tr>\n",
       "  </thead>\n",
       "  <tbody>\n",
       "    <tr>\n",
       "      <th>10</th>\n",
       "      <td>10</td>\n",
       "      <td>20</td>\n",
       "      <td>Naruto</td>\n",
       "      <td>7.99</td>\n",
       "      <td>Action, Adventure, Fantasy</td>\n",
       "      <td>Moments prior to Naruto Uzumaki's birth, a hug...</td>\n",
       "      <td>TV</td>\n",
       "      <td>220.0</td>\n",
       "      <td>Oct 3, 2002 to Feb 8, 2007</td>\n",
       "      <td>Finished Airing</td>\n",
       "      <td>Pierrot</td>\n",
       "      <td>Manga</td>\n",
       "      <td>23 min per ep</td>\n",
       "      <td>PG-13 - Teens 13 or older</td>\n",
       "      <td>599.0</td>\n",
       "      <td>8</td>\n",
       "      <td>76343</td>\n",
       "      <td>2717330</td>\n",
       "      <td>https://cdn.myanimelist.net/images/anime/13/17...</td>\n",
       "    </tr>\n",
       "  </tbody>\n",
       "</table>\n",
       "</div>"
      ],
      "text/plain": [
       "    Unnamed: 0  anime_id    Name Score                      Genres  \\\n",
       "10          10        20  Naruto  7.99  Action, Adventure, Fantasy   \n",
       "\n",
       "                                             Synopsis Type Episodes  \\\n",
       "10  Moments prior to Naruto Uzumaki's birth, a hug...   TV    220.0   \n",
       "\n",
       "                         Aired           Status  Studios Source  \\\n",
       "10  Oct 3, 2002 to Feb 8, 2007  Finished Airing  Pierrot  Manga   \n",
       "\n",
       "         Duration                     Rating   Rank  Popularity  Favorites  \\\n",
       "10  23 min per ep  PG-13 - Teens 13 or older  599.0           8      76343   \n",
       "\n",
       "    Members                                          Image URL  \n",
       "10  2717330  https://cdn.myanimelist.net/images/anime/13/17...  "
      ]
     },
     "execution_count": 65,
     "metadata": {},
     "output_type": "execute_result"
    }
   ],
   "source": [
    "df[df['Name']==fav_anime]"
   ]
  },
  {
   "cell_type": "code",
   "execution_count": 67,
   "id": "b5caf438-29cf-492d-92b5-fce8b072c279",
   "metadata": {},
   "outputs": [
    {
     "data": {
      "text/html": [
       "<div>\n",
       "<style scoped>\n",
       "    .dataframe tbody tr th:only-of-type {\n",
       "        vertical-align: middle;\n",
       "    }\n",
       "\n",
       "    .dataframe tbody tr th {\n",
       "        vertical-align: top;\n",
       "    }\n",
       "\n",
       "    .dataframe thead th {\n",
       "        text-align: right;\n",
       "    }\n",
       "</style>\n",
       "<table border=\"1\" class=\"dataframe\">\n",
       "  <thead>\n",
       "    <tr style=\"text-align: right;\">\n",
       "      <th></th>\n",
       "      <th>Unnamed: 0</th>\n",
       "      <th>anime_id</th>\n",
       "      <th>Name</th>\n",
       "      <th>Score</th>\n",
       "      <th>Genres</th>\n",
       "      <th>Synopsis</th>\n",
       "      <th>Type</th>\n",
       "      <th>Episodes</th>\n",
       "      <th>Aired</th>\n",
       "      <th>Status</th>\n",
       "      <th>Studios</th>\n",
       "      <th>Source</th>\n",
       "      <th>Duration</th>\n",
       "      <th>Rating</th>\n",
       "      <th>Rank</th>\n",
       "      <th>Popularity</th>\n",
       "      <th>Favorites</th>\n",
       "      <th>Members</th>\n",
       "      <th>Image URL</th>\n",
       "    </tr>\n",
       "  </thead>\n",
       "  <tbody>\n",
       "    <tr>\n",
       "      <th>11</th>\n",
       "      <td>11</td>\n",
       "      <td>21</td>\n",
       "      <td>One Piece</td>\n",
       "      <td>8.69</td>\n",
       "      <td>Action, Adventure, Fantasy</td>\n",
       "      <td>Gol D. Roger was known as the \"Pirate King,\" t...</td>\n",
       "      <td>TV</td>\n",
       "      <td>UNKNOWN</td>\n",
       "      <td>Oct 20, 1999 to ?</td>\n",
       "      <td>Currently Airing</td>\n",
       "      <td>Toei Animation</td>\n",
       "      <td>Manga</td>\n",
       "      <td>24 min</td>\n",
       "      <td>PG-13 - Teens 13 or older</td>\n",
       "      <td>55.0</td>\n",
       "      <td>20</td>\n",
       "      <td>198986</td>\n",
       "      <td>2168904</td>\n",
       "      <td>https://cdn.myanimelist.net/images/anime/6/732...</td>\n",
       "    </tr>\n",
       "  </tbody>\n",
       "</table>\n",
       "</div>"
      ],
      "text/plain": [
       "    Unnamed: 0  anime_id       Name Score                      Genres  \\\n",
       "11          11        21  One Piece  8.69  Action, Adventure, Fantasy   \n",
       "\n",
       "                                             Synopsis Type Episodes  \\\n",
       "11  Gol D. Roger was known as the \"Pirate King,\" t...   TV  UNKNOWN   \n",
       "\n",
       "                Aired            Status         Studios Source Duration  \\\n",
       "11  Oct 20, 1999 to ?  Currently Airing  Toei Animation  Manga   24 min   \n",
       "\n",
       "                       Rating  Rank  Popularity  Favorites  Members  \\\n",
       "11  PG-13 - Teens 13 or older  55.0          20     198986  2168904   \n",
       "\n",
       "                                            Image URL  \n",
       "11  https://cdn.myanimelist.net/images/anime/6/732...  "
      ]
     },
     "execution_count": 67,
     "metadata": {},
     "output_type": "execute_result"
    }
   ],
   "source": [
    "df[df['Name']=='One Piece']"
   ]
  },
  {
   "cell_type": "code",
   "execution_count": 70,
   "id": "607af0e7-a64d-447b-9186-040ff7eb5bd4",
   "metadata": {},
   "outputs": [
    {
     "data": {
      "text/html": [
       "<div>\n",
       "<style scoped>\n",
       "    .dataframe tbody tr th:only-of-type {\n",
       "        vertical-align: middle;\n",
       "    }\n",
       "\n",
       "    .dataframe tbody tr th {\n",
       "        vertical-align: top;\n",
       "    }\n",
       "\n",
       "    .dataframe thead th {\n",
       "        text-align: right;\n",
       "    }\n",
       "</style>\n",
       "<table border=\"1\" class=\"dataframe\">\n",
       "  <thead>\n",
       "    <tr style=\"text-align: right;\">\n",
       "      <th></th>\n",
       "      <th>Unnamed: 0</th>\n",
       "      <th>anime_id</th>\n",
       "      <th>Name</th>\n",
       "      <th>Score</th>\n",
       "      <th>Genres</th>\n",
       "      <th>Synopsis</th>\n",
       "      <th>Type</th>\n",
       "      <th>Episodes</th>\n",
       "      <th>Aired</th>\n",
       "      <th>Status</th>\n",
       "      <th>Studios</th>\n",
       "      <th>Source</th>\n",
       "      <th>Duration</th>\n",
       "      <th>Rating</th>\n",
       "      <th>Rank</th>\n",
       "      <th>Popularity</th>\n",
       "      <th>Favorites</th>\n",
       "      <th>Members</th>\n",
       "      <th>Image URL</th>\n",
       "    </tr>\n",
       "  </thead>\n",
       "  <tbody>\n",
       "    <tr>\n",
       "      <th>734</th>\n",
       "      <td>734</td>\n",
       "      <td>813</td>\n",
       "      <td>Dragon Ball Z</td>\n",
       "      <td>8.16</td>\n",
       "      <td>Action, Adventure, Comedy, Fantasy</td>\n",
       "      <td>Five years after winning the World Martial Art...</td>\n",
       "      <td>TV</td>\n",
       "      <td>291.0</td>\n",
       "      <td>Apr 26, 1989 to Jan 31, 1996</td>\n",
       "      <td>Finished Airing</td>\n",
       "      <td>Toei Animation</td>\n",
       "      <td>Manga</td>\n",
       "      <td>24 min per ep</td>\n",
       "      <td>PG-13 - Teens 13 or older</td>\n",
       "      <td>392.0</td>\n",
       "      <td>109</td>\n",
       "      <td>36163</td>\n",
       "      <td>1176423</td>\n",
       "      <td>https://cdn.myanimelist.net/images/anime/1607/...</td>\n",
       "    </tr>\n",
       "  </tbody>\n",
       "</table>\n",
       "</div>"
      ],
      "text/plain": [
       "     Unnamed: 0  anime_id           Name Score  \\\n",
       "734         734       813  Dragon Ball Z  8.16   \n",
       "\n",
       "                                 Genres  \\\n",
       "734  Action, Adventure, Comedy, Fantasy   \n",
       "\n",
       "                                              Synopsis Type Episodes  \\\n",
       "734  Five years after winning the World Martial Art...   TV    291.0   \n",
       "\n",
       "                            Aired           Status         Studios Source  \\\n",
       "734  Apr 26, 1989 to Jan 31, 1996  Finished Airing  Toei Animation  Manga   \n",
       "\n",
       "          Duration                     Rating   Rank  Popularity  Favorites  \\\n",
       "734  24 min per ep  PG-13 - Teens 13 or older  392.0         109      36163   \n",
       "\n",
       "     Members                                          Image URL  \n",
       "734  1176423  https://cdn.myanimelist.net/images/anime/1607/...  "
      ]
     },
     "execution_count": 70,
     "metadata": {},
     "output_type": "execute_result"
    }
   ],
   "source": [
    "df[df['Name']=='Dragon Ball Z']"
   ]
  },
  {
   "cell_type": "code",
   "execution_count": 74,
   "id": "91bb6b2d-9949-49bb-95ae-84b52159a99e",
   "metadata": {},
   "outputs": [
    {
     "data": {
      "text/plain": [
       "3744541"
      ]
     },
     "execution_count": 74,
     "metadata": {},
     "output_type": "execute_result"
    }
   ],
   "source": [
    "df['Members'].max()"
   ]
  },
  {
   "cell_type": "code",
   "execution_count": 76,
   "id": "ace169e6-80d6-4c63-b61c-6bec8b415bf2",
   "metadata": {},
   "outputs": [
    {
     "data": {
      "text/html": [
       "<div>\n",
       "<style scoped>\n",
       "    .dataframe tbody tr th:only-of-type {\n",
       "        vertical-align: middle;\n",
       "    }\n",
       "\n",
       "    .dataframe tbody tr th {\n",
       "        vertical-align: top;\n",
       "    }\n",
       "\n",
       "    .dataframe thead th {\n",
       "        text-align: right;\n",
       "    }\n",
       "</style>\n",
       "<table border=\"1\" class=\"dataframe\">\n",
       "  <thead>\n",
       "    <tr style=\"text-align: right;\">\n",
       "      <th></th>\n",
       "      <th>Unnamed: 0</th>\n",
       "      <th>anime_id</th>\n",
       "      <th>Name</th>\n",
       "      <th>Score</th>\n",
       "      <th>Genres</th>\n",
       "      <th>Synopsis</th>\n",
       "      <th>Type</th>\n",
       "      <th>Episodes</th>\n",
       "      <th>Aired</th>\n",
       "      <th>Status</th>\n",
       "      <th>Studios</th>\n",
       "      <th>Source</th>\n",
       "      <th>Duration</th>\n",
       "      <th>Rating</th>\n",
       "      <th>Rank</th>\n",
       "      <th>Popularity</th>\n",
       "      <th>Favorites</th>\n",
       "      <th>Members</th>\n",
       "      <th>Image URL</th>\n",
       "    </tr>\n",
       "  </thead>\n",
       "  <tbody>\n",
       "    <tr>\n",
       "      <th>7428</th>\n",
       "      <td>7428</td>\n",
       "      <td>16498</td>\n",
       "      <td>Shingeki no Kyojin</td>\n",
       "      <td>8.54</td>\n",
       "      <td>Action, Award Winning, Drama, Suspense</td>\n",
       "      <td>Centuries ago, mankind was slaughtered to near...</td>\n",
       "      <td>TV</td>\n",
       "      <td>25.0</td>\n",
       "      <td>Apr 7, 2013 to Sep 29, 2013</td>\n",
       "      <td>Finished Airing</td>\n",
       "      <td>Wit Studio</td>\n",
       "      <td>Manga</td>\n",
       "      <td>24 min per ep</td>\n",
       "      <td>R - 17+ (violence &amp; profanity)</td>\n",
       "      <td>107.0</td>\n",
       "      <td>1</td>\n",
       "      <td>163844</td>\n",
       "      <td>3744541</td>\n",
       "      <td>https://cdn.myanimelist.net/images/anime/10/47...</td>\n",
       "    </tr>\n",
       "  </tbody>\n",
       "</table>\n",
       "</div>"
      ],
      "text/plain": [
       "      Unnamed: 0  anime_id                Name Score  \\\n",
       "7428        7428     16498  Shingeki no Kyojin  8.54   \n",
       "\n",
       "                                      Genres  \\\n",
       "7428  Action, Award Winning, Drama, Suspense   \n",
       "\n",
       "                                               Synopsis Type Episodes  \\\n",
       "7428  Centuries ago, mankind was slaughtered to near...   TV     25.0   \n",
       "\n",
       "                            Aired           Status     Studios Source  \\\n",
       "7428  Apr 7, 2013 to Sep 29, 2013  Finished Airing  Wit Studio  Manga   \n",
       "\n",
       "           Duration                          Rating   Rank  Popularity  \\\n",
       "7428  24 min per ep  R - 17+ (violence & profanity)  107.0           1   \n",
       "\n",
       "      Favorites  Members                                          Image URL  \n",
       "7428     163844  3744541  https://cdn.myanimelist.net/images/anime/10/47...  "
      ]
     },
     "execution_count": 76,
     "metadata": {},
     "output_type": "execute_result"
    }
   ],
   "source": [
    "df[df['Members']==df['Members'].max()]"
   ]
  },
  {
   "cell_type": "code",
   "execution_count": null,
   "id": "43276be0-8127-4282-843c-ae44172d8872",
   "metadata": {},
   "outputs": [],
   "source": []
  },
  {
   "cell_type": "markdown",
   "id": "4a9897fd-4133-46d8-b6b9-c31b4a0641f2",
   "metadata": {},
   "source": [
    "# ..........................................................................................................---.-.-"
   ]
  },
  {
   "cell_type": "code",
   "execution_count": 82,
   "id": "5cee426e-5b1c-46c3-b8c2-f4302de96165",
   "metadata": {},
   "outputs": [
    {
     "name": "stdout",
     "output_type": "stream",
     "text": [
      "24905 \n",
      " 9980\n"
     ]
    }
   ],
   "source": [
    "final_gen= df[df['Name']==fav_anime]['Genres'].iloc[0].strip().split(',')\n",
    "final_gen=list(set(final_gen+fav_gen))\n",
    "\n",
    "def contain_fav_gen(genres):\n",
    "    return any(genre in genres for genre in final_gen)\n",
    "\n",
    "gen_df = df[df['Genres'].apply(contain_fav_gen)]\n",
    "\n",
    "print(df['anime_id'].count(),\"\\n\",gen_df['anime_id'].count())"
   ]
  },
  {
   "cell_type": "code",
   "execution_count": 83,
   "id": "20a1d5bf-91c2-4fa5-9931-689d92906ec5",
   "metadata": {},
   "outputs": [
    {
     "data": {
      "text/plain": [
       "['R - 17+ (violence & profanity)',\n",
       " 'PG-13 - Teens 13 or older',\n",
       " 'PG - Children',\n",
       " 'R+ - Mild Nudity',\n",
       " 'G - All Ages',\n",
       " 'Rx - Hentai',\n",
       " 'Any',\n",
       " 'PG-13 - Teens 13 or older']"
      ]
     },
     "execution_count": 83,
     "metadata": {},
     "output_type": "execute_result"
    }
   ],
   "source": [
    "fav_rat"
   ]
  },
  {
   "cell_type": "code",
   "execution_count": 90,
   "id": "37ae4f2c-47ad-4694-aa55-08ee1b63f277",
   "metadata": {},
   "outputs": [
    {
     "name": "stdout",
     "output_type": "stream",
     "text": [
      "9980 \n",
      " 9697\n"
     ]
    }
   ],
   "source": [
    "final_rat= df[df['Name']==fav_anime]['Rating'].iloc[0].strip().split(',')\n",
    "final_rat=list(set(final_rat+fav_rat))\n",
    "\n",
    "def contain_fav_rat(ratings):\n",
    "    return any(rating in ratings for rating in final_rat)\n",
    "\n",
    "rat_df = gen_df[gen_df['Rating'].apply(contain_fav_rat)]\n",
    "\n",
    "print(gen_df['anime_id'].count(),\"\\n\",rat_df['anime_id'].count())"
   ]
  },
  {
   "cell_type": "code",
   "execution_count": 91,
   "id": "5634ace5-4286-4dcd-8dfa-89ee0cb28e00",
   "metadata": {},
   "outputs": [
    {
     "data": {
      "text/plain": [
       "['TV', 'Movie', 'OVA', 'Special', 'ONA', 'Music', 'Any', 'TV']"
      ]
     },
     "execution_count": 91,
     "metadata": {},
     "output_type": "execute_result"
    }
   ],
   "source": [
    "fav_typ"
   ]
  },
  {
   "cell_type": "code",
   "execution_count": 93,
   "id": "d5a6b091-9862-4c79-8aa9-3aa3435a8677",
   "metadata": {},
   "outputs": [
    {
     "name": "stdout",
     "output_type": "stream",
     "text": [
      "9697 \n",
      " 9689\n"
     ]
    }
   ],
   "source": [
    "final_typ= df[df['Name']==fav_anime]['Type'].iloc[0].strip().split(',')\n",
    "final_typ=list(set(final_typ+fav_typ))\n",
    "\n",
    "def contain_fav_typ(Types):\n",
    "    return any(Type in Types for Type in final_typ)\n",
    "\n",
    "typ_df = rat_df[gen_df['Type'].apply(contain_fav_typ)]\n",
    "\n",
    "print(rat_df['anime_id'].count(),\"\\n\",typ_df['anime_id'].count())"
   ]
  },
  {
   "cell_type": "code",
   "execution_count": 94,
   "id": "1dd0c2e2-8563-48f2-8774-a9f0e117fb01",
   "metadata": {},
   "outputs": [],
   "source": [
    "Final_df = typ_df"
   ]
  },
  {
   "cell_type": "markdown",
   "id": "afd867c4-d794-4fbc-ba4a-ecb9398cd672",
   "metadata": {},
   "source": [
    "# *----------------------------___________________________*************************"
   ]
  },
  {
   "cell_type": "code",
   "execution_count": null,
   "id": "7fce1cf9-c756-4f06-af13-1f2b4819a4ed",
   "metadata": {},
   "outputs": [],
   "source": []
  }
 ],
 "metadata": {
  "kernelspec": {
   "display_name": "Python 3 (ipykernel)",
   "language": "python",
   "name": "python3"
  },
  "language_info": {
   "codemirror_mode": {
    "name": "ipython",
    "version": 3
   },
   "file_extension": ".py",
   "mimetype": "text/x-python",
   "name": "python",
   "nbconvert_exporter": "python",
   "pygments_lexer": "ipython3",
   "version": "3.11.7"
  }
 },
 "nbformat": 4,
 "nbformat_minor": 5
}
